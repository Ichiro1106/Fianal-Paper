{
 "cells": [
  {
   "attachments": {},
   "cell_type": "markdown",
   "metadata": {},
   "source": [
    "## Common Setting"
   ]
  },
  {
   "cell_type": "code",
   "execution_count": 1,
   "metadata": {},
   "outputs": [],
   "source": [
    "from bs4 import BeautifulSoup\n",
    "from selenium import webdriver\n",
    "from selenium.webdriver.common.by import By\n",
    "import requests\n",
    "import urllib3\n",
    "import time\n",
    "import pandas as pd\n",
    "import numpy as np\n",
    "from selenium.webdriver.chrome.service import Service\n",
    "from selenium.webdriver.support.ui import WebDriverWait\n",
    "from selenium.webdriver.support import expected_conditions as EC\n",
    "import codecs\n",
    "import re\n",
    "from webdriver_manager.chrome import ChromeDriverManager\n",
    "from selenium.webdriver.chrome import service\n",
    "from selenium.webdriver.common.by import By\n",
    "from selenium.webdriver.common.keys import Keys"
   ]
  },
  {
   "cell_type": "code",
   "execution_count": 2,
   "metadata": {},
   "outputs": [],
   "source": [
    "pd.set_option('display.max_columns', None)\n",
    "pd.set_option('display.max_rows', None)"
   ]
  },
  {
   "attachments": {},
   "cell_type": "markdown",
   "metadata": {},
   "source": [
    "## おもてなしサイト"
   ]
  },
  {
   "cell_type": "code",
   "execution_count": 11,
   "metadata": {},
   "outputs": [],
   "source": [
    "CHROME_DRIVER = \"C:/Users/ichir.DESKTOP-5SIALMV//Documents/seminar/chrome_driver/chromedriver.exe\"\n",
    "chrome_service = service.Service(executable_path = CHROME_DRIVER)\n",
    "browser = webdriver.Chrome(service=chrome_service)"
   ]
  },
  {
   "cell_type": "code",
   "execution_count": 4,
   "metadata": {},
   "outputs": [],
   "source": [
    "com_name = []\n",
    "com_num = []\n",
    "com_ind = []\n",
    "com_market = []"
   ]
  },
  {
   "attachments": {},
   "cell_type": "markdown",
   "metadata": {},
   "source": [
    "#### 農林・水産業"
   ]
  },
  {
   "cell_type": "code",
   "execution_count": 5,
   "metadata": {},
   "outputs": [],
   "source": [
    "browser.get(\"https://omotenashi.site/company/agriculture-and-fisheries/\")\n",
    "time.sleep(.5)\n",
    "No_com = len(browser.find_elements(\"xpath\", \"//ul[@class = 'entryList01']/li\"))\n",
    "for i in range(No_com):\n",
    "    i += 1\n",
    "    xpath_url = f\"//*[@id='contents']/section/ul/li[{i}]/a\"\n",
    "    browser.find_element(\"xpath\", xpath_url).click()\n",
    "    time.sleep(1)\n",
    "    element1 = browser.find_element(\"xpath\", \"//*[@class = 'deviceTtl01']\")\n",
    "    element2 = browser.find_element(\"xpath\", \"//*[@class='dataTable01']/tbody/tr[1]/td\")\n",
    "    element3 = browser.find_element(\"xpath\", \"//*[@class = 'dataTable01']/tbody/tr[2]/td/a\")\n",
    "    element4 = browser.find_element(\"xpath\", \"//*[@class = 'dataTable01']/tbody/tr[4]/td/a\")\n",
    "    time.sleep(1)\n",
    "    com_name.append(element1.text[:-5])\n",
    "    com_num.append(element2.text)\n",
    "    com_ind.append(element3.text)\n",
    "    com_market.append(element4.text)\n",
    "    time.sleep(.5)\n",
    "    browser.back()\n",
    "    time.sleep(.5)"
   ]
  },
  {
   "attachments": {},
   "cell_type": "markdown",
   "metadata": {},
   "source": [
    "#### ガラス・土石"
   ]
  },
  {
   "cell_type": "code",
   "execution_count": 6,
   "metadata": {},
   "outputs": [],
   "source": [
    "page_path = f\"https://omotenashi.site/company/glass-earth-and-soil-product/\"\n",
    "for i in range(1, 7):\n",
    "    if i >= 2:\n",
    "        page_path += f\"index_{i}.html\"\n",
    "    else:\n",
    "        page_path = page_path\n",
    "    browser.get(page_path)\n",
    "    time.sleep(.5)\n",
    "    No_com = len(browser.find_elements(\"xpath\", \"//ul[@class = 'entryList01']/li\"))\n",
    "    for i in range(No_com):\n",
    "        i += 1\n",
    "        xpath_url = f\"//ul[@class = 'entryList01']/li[{i}]/a\"\n",
    "        browser.find_element(\"xpath\", xpath_url).click()\n",
    "        time.sleep(1)\n",
    "        element1 = browser.find_element(\"xpath\", \"//*[@class = 'deviceTtl01']\")\n",
    "        element2 = browser.find_element(\"xpath\", \"//*[@class='dataTable01']/tbody/tr[1]/td\")\n",
    "        element3 = browser.find_element(\"xpath\", \"//*[@class = 'dataTable01']/tbody/tr[2]/td/a\")\n",
    "        element4 = browser.find_element(\"xpath\", \"//*[@class = 'dataTable01']/tbody/tr[4]/td/a\")\n",
    "        time.sleep(1)\n",
    "        com_name.append(element1.text[:-5])\n",
    "        com_num.append(element2.text)\n",
    "        com_ind.append(element3.text)\n",
    "        com_market.append(element4.text)\n",
    "        time.sleep(.5)\n",
    "        browser.back()\n",
    "        time.sleep(.5)\n",
    "    page_path = f\"https://omotenashi.site/company/glass-earth-and-soil-product/\""
   ]
  },
  {
   "attachments": {},
   "cell_type": "markdown",
   "metadata": {},
   "source": [
    "#### 鉱業"
   ]
  },
  {
   "cell_type": "code",
   "execution_count": 7,
   "metadata": {},
   "outputs": [],
   "source": [
    "browser.get(\"https://omotenashi.site/company/mining/\")\n",
    "time.sleep(.5)\n",
    "No_com = len(browser.find_elements(\"xpath\", \"//ul[@class = 'entryList01']/li\"))\n",
    "for i in range(No_com):\n",
    "    i += 1\n",
    "    xpath_url = f\"//*[@id='contents']/section/ul/li[{i}]/a\"\n",
    "    browser.find_element(\"xpath\", xpath_url).click()\n",
    "    time.sleep(1)\n",
    "    element1 = browser.find_element(\"xpath\", \"//*[@class = 'deviceTtl01']\")\n",
    "    element2 = browser.find_element(\"xpath\", \"//*[@class='dataTable01']/tbody/tr[1]/td\")\n",
    "    element3 = browser.find_element(\"xpath\", \"//*[@class = 'dataTable01']/tbody/tr[2]/td/a\")\n",
    "    element4 = browser.find_element(\"xpath\", \"//*[@class = 'dataTable01']/tbody/tr[4]/td/a\")\n",
    "    time.sleep(1)\n",
    "    com_name.append(element1.text[:-5])\n",
    "    com_num.append(element2.text)\n",
    "    com_ind.append(element3.text)\n",
    "    com_market.append(element4.text)\n",
    "    time.sleep(.5)\n",
    "    browser.back()\n",
    "    time.sleep(.5)"
   ]
  },
  {
   "attachments": {},
   "cell_type": "markdown",
   "metadata": {},
   "source": [
    "#### 建設業"
   ]
  },
  {
   "cell_type": "code",
   "execution_count": 8,
   "metadata": {},
   "outputs": [],
   "source": [
    "page_path = f\"https://omotenashi.site/company/construction/\"\n",
    "for i in range(1, 19):\n",
    "    if i >= 2:\n",
    "        page_path += f\"index_{i}.html\"\n",
    "    else:\n",
    "        page_path = page_path\n",
    "    browser.get(page_path)\n",
    "    time.sleep(.5)\n",
    "    No_com = len(browser.find_elements(\"xpath\", \"//ul[@class = 'entryList01']/li\"))\n",
    "    for i in range(No_com):\n",
    "        i += 1\n",
    "        xpath_url = f\"//ul[@class = 'entryList01']/li[{i}]/a\"\n",
    "        browser.find_element(\"xpath\", xpath_url).click()\n",
    "        time.sleep(1)\n",
    "        element1 = browser.find_element(\"xpath\", \"//*[@class = 'deviceTtl01']\")\n",
    "        element2 = browser.find_element(\"xpath\", \"//*[@class='dataTable01']/tbody/tr[1]/td\")\n",
    "        element3 = browser.find_element(\"xpath\", \"//*[@class = 'dataTable01']/tbody/tr[2]/td/a\")\n",
    "        element4 = browser.find_element(\"xpath\", \"//*[@class = 'dataTable01']/tbody/tr[4]/td/a\")\n",
    "        time.sleep(1)\n",
    "        com_name.append(element1.text[:-5])\n",
    "        com_num.append(element2.text)\n",
    "        com_ind.append(element3.text)\n",
    "        com_market.append(element4.text)\n",
    "        time.sleep(.5)\n",
    "        browser.back()\n",
    "        time.sleep(.5)\n",
    "    page_path = f\"https://omotenashi.site/company/construction/\""
   ]
  },
  {
   "attachments": {},
   "cell_type": "markdown",
   "metadata": {},
   "source": [
    "#### 食料品"
   ]
  },
  {
   "cell_type": "code",
   "execution_count": 9,
   "metadata": {},
   "outputs": [],
   "source": [
    "page_path = f\"https://omotenashi.site/company/food/\"\n",
    "for i in range(1, 14):\n",
    "    if i >= 2:\n",
    "        page_path += f\"index_{i}.html\"\n",
    "    else:\n",
    "        page_path = page_path\n",
    "    browser.get(page_path)\n",
    "    time.sleep(.5)\n",
    "    No_com = len(browser.find_elements(\"xpath\", \"//ul[@class = 'entryList01']/li\"))\n",
    "    for i in range(No_com):\n",
    "        i += 1\n",
    "        xpath_url = f\"//ul[@class = 'entryList01']/li[{i}]/a\"\n",
    "        browser.find_element(\"xpath\", xpath_url).click()\n",
    "        time.sleep(1)\n",
    "        element1 = browser.find_element(\"xpath\", \"//*[@class = 'deviceTtl01']\")\n",
    "        element2 = browser.find_element(\"xpath\", \"//*[@class='dataTable01']/tbody/tr[1]/td\")\n",
    "        element3 = browser.find_element(\"xpath\", \"//*[@class = 'dataTable01']/tbody/tr[2]/td/a\")\n",
    "        element4 = browser.find_element(\"xpath\", \"//*[@class = 'dataTable01']/tbody/tr[4]/td/a\")\n",
    "        time.sleep(1)\n",
    "        com_name.append(element1.text[:-5])\n",
    "        com_num.append(element2.text)\n",
    "        com_ind.append(element3.text)\n",
    "        com_market.append(element4.text)\n",
    "        time.sleep(.5)\n",
    "        browser.back()\n",
    "        time.sleep(.5)\n",
    "    page_path = f\"https://omotenashi.site/company/food/\""
   ]
  },
  {
   "attachments": {},
   "cell_type": "markdown",
   "metadata": {},
   "source": [
    "#### パルプ・紙"
   ]
  },
  {
   "cell_type": "code",
   "execution_count": 10,
   "metadata": {},
   "outputs": [],
   "source": [
    "page_path = f\"https://omotenashi.site/company/pulp-and-paper/index.html\"\n",
    "for i in range(1, 4):\n",
    "    if i >= 2:\n",
    "        page_path += f\"index_{i}.html\"\n",
    "    else:\n",
    "        page_path = page_path\n",
    "    browser.get(page_path)\n",
    "    time.sleep(.5)\n",
    "    No_com = len(browser.find_elements(\"xpath\", \"//ul[@class = 'entryList01']/li\"))\n",
    "    for i in range(No_com):\n",
    "        i += 1\n",
    "        xpath_url = f\"//ul[@class = 'entryList01']/li[{i}]/a\"\n",
    "        browser.find_element(\"xpath\", xpath_url).click()\n",
    "        time.sleep(1)\n",
    "        element1 = browser.find_element(\"xpath\", \"//*[@class = 'deviceTtl01']\")\n",
    "        element2 = browser.find_element(\"xpath\", \"//*[@class='dataTable01']/tbody/tr[1]/td\")\n",
    "        element3 = browser.find_element(\"xpath\", \"//*[@class = 'dataTable01']/tbody/tr[2]/td/a\")\n",
    "        element4 = browser.find_element(\"xpath\", \"//*[@class = 'dataTable01']/tbody/tr[4]/td/a\")\n",
    "        time.sleep(1)\n",
    "        com_name.append(element1.text[:-5])\n",
    "        com_num.append(element2.text)\n",
    "        com_ind.append(element3.text)\n",
    "        com_market.append(element4.text)\n",
    "        time.sleep(.5)\n",
    "        browser.back()\n",
    "        time.sleep(.5)\n",
    "    page_path = f\"https://omotenashi.site/company/pulp-and-paper/\""
   ]
  },
  {
   "attachments": {},
   "cell_type": "markdown",
   "metadata": {},
   "source": [
    "#### 化学"
   ]
  },
  {
   "cell_type": "code",
   "execution_count": 11,
   "metadata": {},
   "outputs": [],
   "source": [
    "page_path = f\"https://omotenashi.site/company/chemical/\"\n",
    "for i in range(1, 23):\n",
    "    if i >= 2:\n",
    "        page_path += f\"index_{i}.html\"\n",
    "    else:\n",
    "        page_path = page_path\n",
    "    browser.get(page_path)\n",
    "    time.sleep(.5)\n",
    "    No_com = len(browser.find_elements(\"xpath\", \"//ul[@class = 'entryList01']/li\"))\n",
    "    for i in range(No_com):\n",
    "        i += 1\n",
    "        xpath_url = f\"//ul[@class = 'entryList01']/li[{i}]/a\"\n",
    "        browser.find_element(\"xpath\", xpath_url).click()\n",
    "        time.sleep(1)\n",
    "        element1 = browser.find_element(\"xpath\", \"//*[@class = 'deviceTtl01']\")\n",
    "        element2 = browser.find_element(\"xpath\", \"//*[@class='dataTable01']/tbody/tr[1]/td\")\n",
    "        element3 = browser.find_element(\"xpath\", \"//*[@class = 'dataTable01']/tbody/tr[2]/td/a\")\n",
    "        element4 = browser.find_element(\"xpath\", \"//*[@class = 'dataTable01']/tbody/tr[4]/td/a\")\n",
    "        time.sleep(1)\n",
    "        com_name.append(element1.text[:-5])\n",
    "        com_num.append(element2.text)\n",
    "        com_ind.append(element3.text)\n",
    "        com_market.append(element4.text)\n",
    "        time.sleep(.5)\n",
    "        browser.back()\n",
    "        time.sleep(.5)\n",
    "    page_path = f\"https://omotenashi.site/company/chemical/\""
   ]
  },
  {
   "attachments": {},
   "cell_type": "markdown",
   "metadata": {},
   "source": [
    "#### 医薬品"
   ]
  },
  {
   "cell_type": "code",
   "execution_count": 12,
   "metadata": {},
   "outputs": [],
   "source": [
    "page_path = f\"https://omotenashi.site/company/pharmaceutical/\"\n",
    "for i in range(1, 8):\n",
    "    if i >= 2:\n",
    "        page_path += f\"index_{i}.html\"\n",
    "    else:\n",
    "        page_path = page_path\n",
    "    browser.get(page_path)\n",
    "    time.sleep(.5)\n",
    "    No_com = len(browser.find_elements(\"xpath\", \"//ul[@class = 'entryList01']/li\"))\n",
    "    for i in range(No_com):\n",
    "        i += 1\n",
    "        xpath_url = f\"//ul[@class = 'entryList01']/li[{i}]/a\"\n",
    "        browser.find_element(\"xpath\", xpath_url).click()\n",
    "        time.sleep(1)\n",
    "        element1 = browser.find_element(\"xpath\", \"//*[@class = 'deviceTtl01']\")\n",
    "        element2 = browser.find_element(\"xpath\", \"//*[@class='dataTable01']/tbody/tr[1]/td\")\n",
    "        element3 = browser.find_element(\"xpath\", \"//*[@class = 'dataTable01']/tbody/tr[2]/td/a\")\n",
    "        element4 = browser.find_element(\"xpath\", \"//*[@class = 'dataTable01']/tbody/tr[4]/td/a\")\n",
    "        time.sleep(1)\n",
    "        com_name.append(element1.text[:-5])\n",
    "        com_num.append(element2.text)\n",
    "        com_ind.append(element3.text)\n",
    "        com_market.append(element4.text)\n",
    "        time.sleep(.5)\n",
    "        browser.back()\n",
    "        time.sleep(.5)\n",
    "    page_path = f\"https://omotenashi.site/company/pharmaceutical/\""
   ]
  },
  {
   "attachments": {},
   "cell_type": "markdown",
   "metadata": {},
   "source": [
    "#### 石油・石炭"
   ]
  },
  {
   "cell_type": "code",
   "execution_count": 13,
   "metadata": {},
   "outputs": [],
   "source": [
    "page_path = f\"https://omotenashi.site/company/oil-and-coal-products/\"\n",
    "for i in range(1, 3):\n",
    "    if i >= 2:\n",
    "        page_path += f\"index_{i}.html\"\n",
    "    else:\n",
    "        page_path = page_path\n",
    "    browser.get(page_path)\n",
    "    time.sleep(.5)\n",
    "    No_com = len(browser.find_elements(\"xpath\", \"//ul[@class = 'entryList01']/li\"))\n",
    "    for i in range(No_com):\n",
    "        i += 1\n",
    "        xpath_url = f\"//ul[@class = 'entryList01']/li[{i}]/a\"\n",
    "        browser.find_element(\"xpath\", xpath_url).click()\n",
    "        time.sleep(1)\n",
    "        element1 = browser.find_element(\"xpath\", \"//*[@class = 'deviceTtl01']\")\n",
    "        element2 = browser.find_element(\"xpath\", \"//*[@class='dataTable01']/tbody/tr[1]/td\")\n",
    "        element3 = browser.find_element(\"xpath\", \"//*[@class = 'dataTable01']/tbody/tr[2]/td/a\")\n",
    "        element4 = browser.find_element(\"xpath\", \"//*[@class = 'dataTable01']/tbody/tr[4]/td/a\")\n",
    "        time.sleep(1)\n",
    "        com_name.append(element1.text[:-5])\n",
    "        com_num.append(element2.text)\n",
    "        com_ind.append(element3.text)\n",
    "        com_market.append(element4.text)\n",
    "        time.sleep(.5)\n",
    "        browser.back()\n",
    "        time.sleep(.5)\n",
    "    page_path = f\"https://omotenashi.site/company/oil-and-coal-products/\""
   ]
  },
  {
   "attachments": {},
   "cell_type": "markdown",
   "metadata": {},
   "source": [
    "#### ゴム製品"
   ]
  },
  {
   "cell_type": "code",
   "execution_count": 14,
   "metadata": {},
   "outputs": [],
   "source": [
    "page_path = f\"https://omotenashi.site/company/rubber-products/\"\n",
    "for i in range(1, 3):\n",
    "    if i >= 2:\n",
    "        page_path += f\"index_{i}.html\"\n",
    "    else:\n",
    "        page_path = page_path\n",
    "    browser.get(page_path)\n",
    "    time.sleep(.5)\n",
    "    No_com = len(browser.find_elements(\"xpath\", \"//ul[@class = 'entryList01']/li\"))\n",
    "    for i in range(No_com):\n",
    "        i += 1\n",
    "        xpath_url = f\"//ul[@class = 'entryList01']/li[{i}]/a\"\n",
    "        browser.find_element(\"xpath\", xpath_url).click()\n",
    "        time.sleep(1)\n",
    "        element1 = browser.find_element(\"xpath\", \"//*[@class = 'deviceTtl01']\")\n",
    "        element2 = browser.find_element(\"xpath\", \"//*[@class='dataTable01']/tbody/tr[1]/td\")\n",
    "        element3 = browser.find_element(\"xpath\", \"//*[@class = 'dataTable01']/tbody/tr[2]/td/a\")\n",
    "        element4 = browser.find_element(\"xpath\", \"//*[@class = 'dataTable01']/tbody/tr[4]/td/a\")\n",
    "        time.sleep(1)\n",
    "        com_name.append(element1.text[:-5])\n",
    "        com_num.append(element2.text)\n",
    "        com_ind.append(element3.text)\n",
    "        com_market.append(element4.text)\n",
    "        time.sleep(.5)\n",
    "        browser.back()\n",
    "        time.sleep(.5)\n",
    "    page_path = f\"https://omotenashi.site/company/rubber-products/\""
   ]
  },
  {
   "attachments": {},
   "cell_type": "markdown",
   "metadata": {},
   "source": [
    "#### 鉄鋼"
   ]
  },
  {
   "cell_type": "code",
   "execution_count": 15,
   "metadata": {},
   "outputs": [],
   "source": [
    "page_path = f\"https://omotenashi.site/company/iron-and-steel/\"\n",
    "for i in range(1, 6):\n",
    "    if i >= 2:\n",
    "        page_path += f\"index_{i}.html\"\n",
    "    else:\n",
    "        page_path = page_path\n",
    "    browser.get(page_path)\n",
    "    time.sleep(.5)\n",
    "    No_com = len(browser.find_elements(\"xpath\", \"//ul[@class = 'entryList01']/li\"))\n",
    "    for i in range(No_com):\n",
    "        i += 1\n",
    "        xpath_url = f\"//ul[@class = 'entryList01']/li[{i}]/a\"\n",
    "        browser.find_element(\"xpath\", xpath_url).click()\n",
    "        time.sleep(1)\n",
    "        element1 = browser.find_element(\"xpath\", \"//*[@class = 'deviceTtl01']\")\n",
    "        element2 = browser.find_element(\"xpath\", \"//*[@class='dataTable01']/tbody/tr[1]/td\")\n",
    "        element3 = browser.find_element(\"xpath\", \"//*[@class = 'dataTable01']/tbody/tr[2]/td/a\")\n",
    "        element4 = browser.find_element(\"xpath\", \"//*[@class = 'dataTable01']/tbody/tr[4]/td/a\")\n",
    "        time.sleep(1)\n",
    "        com_name.append(element1.text[:-5])\n",
    "        com_num.append(element2.text)\n",
    "        com_ind.append(element3.text)\n",
    "        com_market.append(element4.text)\n",
    "        time.sleep(.5)\n",
    "        browser.back()\n",
    "        time.sleep(.5)\n",
    "    page_path = f\"https://omotenashi.site/company/iron-and-steel/\""
   ]
  },
  {
   "attachments": {},
   "cell_type": "markdown",
   "metadata": {},
   "source": [
    "#### 非鉄金属"
   ]
  },
  {
   "cell_type": "code",
   "execution_count": 16,
   "metadata": {},
   "outputs": [],
   "source": [
    "page_path = f\"https://omotenashi.site/company/nonferrous-metal/index.html\"\n",
    "for i in range(1, 5):\n",
    "    if i >= 2:\n",
    "        page_path += f\"index_{i}.html\"\n",
    "    else:\n",
    "        page_path = page_path\n",
    "    browser.get(page_path)\n",
    "    time.sleep(.5)\n",
    "    No_com = len(browser.find_elements(\"xpath\", \"//ul[@class = 'entryList01']/li\"))\n",
    "    for i in range(No_com):\n",
    "        i += 1\n",
    "        xpath_url = f\"//ul[@class = 'entryList01']/li[{i}]/a\"\n",
    "        browser.find_element(\"xpath\", xpath_url).click()\n",
    "        time.sleep(1)\n",
    "        element1 = browser.find_element(\"xpath\", \"//*[@class = 'deviceTtl01']\")\n",
    "        element2 = browser.find_element(\"xpath\", \"//*[@class='dataTable01']/tbody/tr[1]/td\")\n",
    "        element3 = browser.find_element(\"xpath\", \"//*[@class = 'dataTable01']/tbody/tr[2]/td/a\")\n",
    "        element4 = browser.find_element(\"xpath\", \"//*[@class = 'dataTable01']/tbody/tr[4]/td/a\")\n",
    "        time.sleep(1)\n",
    "        com_name.append(element1.text[:-5])\n",
    "        com_num.append(element2.text)\n",
    "        com_ind.append(element3.text)\n",
    "        com_market.append(element4.text)\n",
    "        time.sleep(.5)\n",
    "        browser.back()\n",
    "        time.sleep(.5)\n",
    "    page_path = f\"https://omotenashi.site/company/nonferrous-metal/\""
   ]
  },
  {
   "attachments": {},
   "cell_type": "markdown",
   "metadata": {},
   "source": [
    "#### 金属製品"
   ]
  },
  {
   "cell_type": "code",
   "execution_count": 17,
   "metadata": {},
   "outputs": [],
   "source": [
    "page_path = f\"https://omotenashi.site/company/metal-product/index.html\"\n",
    "for i in range(1, 11):\n",
    "    if i >= 2:\n",
    "        page_path += f\"index_{i}.html\"\n",
    "    else:\n",
    "        page_path = page_path\n",
    "    browser.get(page_path)\n",
    "    time.sleep(.5)\n",
    "    No_com = len(browser.find_elements(\"xpath\", \"//ul[@class = 'entryList01']/li\"))\n",
    "    for i in range(No_com):\n",
    "        i += 1\n",
    "        xpath_url = f\"//ul[@class = 'entryList01']/li[{i}]/a\"\n",
    "        browser.find_element(\"xpath\", xpath_url).click()\n",
    "        time.sleep(1)\n",
    "        element1 = browser.find_element(\"xpath\", \"//*[@class = 'deviceTtl01']\")\n",
    "        element2 = browser.find_element(\"xpath\", \"//*[@class='dataTable01']/tbody/tr[1]/td\")\n",
    "        element3 = browser.find_element(\"xpath\", \"//*[@class = 'dataTable01']/tbody/tr[2]/td/a\")\n",
    "        element4 = browser.find_element(\"xpath\", \"//*[@class = 'dataTable01']/tbody/tr[4]/td/a\")\n",
    "        time.sleep(1)\n",
    "        com_name.append(element1.text[:-5])\n",
    "        com_num.append(element2.text)\n",
    "        com_ind.append(element3.text)\n",
    "        com_market.append(element4.text)\n",
    "        time.sleep(.5)\n",
    "        browser.back()\n",
    "        time.sleep(.5)\n",
    "    page_path = f\"https://omotenashi.site/company/metal-product/\""
   ]
  },
  {
   "attachments": {},
   "cell_type": "markdown",
   "metadata": {},
   "source": [
    "#### 機械"
   ]
  },
  {
   "cell_type": "code",
   "execution_count": 18,
   "metadata": {},
   "outputs": [],
   "source": [
    "page_path = f\"https://omotenashi.site/company/machinery/\"\n",
    "for i in range(1, 25):\n",
    "    if i >= 2:\n",
    "        page_path += f\"index_{i}.html\"\n",
    "    else:\n",
    "        page_path = page_path\n",
    "    browser.get(page_path)\n",
    "    time.sleep(.5)\n",
    "    No_com = len(browser.find_elements(\"xpath\", \"//ul[@class = 'entryList01']/li\"))\n",
    "    for i in range(No_com):\n",
    "        i += 1\n",
    "        xpath_url = f\"//ul[@class = 'entryList01']/li[{i}]/a\"\n",
    "        browser.find_element(\"xpath\", xpath_url).click()\n",
    "        time.sleep(1)\n",
    "        element1 = browser.find_element(\"xpath\", \"//*[@class = 'deviceTtl01']\")\n",
    "        element2 = browser.find_element(\"xpath\", \"//*[@class='dataTable01']/tbody/tr[1]/td\")\n",
    "        element3 = browser.find_element(\"xpath\", \"//*[@class = 'dataTable01']/tbody/tr[2]/td/a\")\n",
    "        element4 = browser.find_element(\"xpath\", \"//*[@class = 'dataTable01']/tbody/tr[4]/td/a\")\n",
    "        time.sleep(1)\n",
    "        com_name.append(element1.text[:-5])\n",
    "        com_num.append(element2.text)\n",
    "        com_ind.append(element3.text)\n",
    "        com_market.append(element4.text)\n",
    "        time.sleep(.5)\n",
    "        browser.back()\n",
    "        time.sleep(.5)\n",
    "    page_path = f\"https://omotenashi.site/company/machinery/\""
   ]
  },
  {
   "attachments": {},
   "cell_type": "markdown",
   "metadata": {},
   "source": [
    "#### 電気機器"
   ]
  },
  {
   "cell_type": "code",
   "execution_count": 19,
   "metadata": {},
   "outputs": [],
   "source": [
    "page_path = f\"https://omotenashi.site/company/electric-appliances/\"\n",
    "for i in range(1, 28):\n",
    "    if i >= 2:\n",
    "        page_path += f\"index_{i}.html\"\n",
    "    else:\n",
    "        page_path = page_path\n",
    "    browser.get(page_path)\n",
    "    time.sleep(.5)\n",
    "    No_com = len(browser.find_elements(\"xpath\", \"//ul[@class = 'entryList01']/li\"))\n",
    "    for i in range(No_com):\n",
    "        i += 1\n",
    "        xpath_url = f\"//ul[@class = 'entryList01']/li[{i}]/a\"\n",
    "        browser.find_element(\"xpath\", xpath_url).click()\n",
    "        time.sleep(1)\n",
    "        element1 = browser.find_element(\"xpath\", \"//*[@class = 'deviceTtl01']\")\n",
    "        element2 = browser.find_element(\"xpath\", \"//*[@class='dataTable01']/tbody/tr[1]/td\")\n",
    "        element3 = browser.find_element(\"xpath\", \"//*[@class = 'dataTable01']/tbody/tr[2]/td/a\")\n",
    "        element4 = browser.find_element(\"xpath\", \"//*[@class = 'dataTable01']/tbody/tr[4]/td/a\")\n",
    "        time.sleep(1)\n",
    "        com_name.append(element1.text[:-5])\n",
    "        com_num.append(element2.text)\n",
    "        com_ind.append(element3.text)\n",
    "        com_market.append(element4.text)\n",
    "        time.sleep(.5)\n",
    "        browser.back()\n",
    "        time.sleep(.5)\n",
    "    page_path = f\"https://omotenashi.site/company/electric-appliances/\""
   ]
  },
  {
   "attachments": {},
   "cell_type": "markdown",
   "metadata": {},
   "source": [
    "#### 輸送用機器"
   ]
  },
  {
   "cell_type": "code",
   "execution_count": 20,
   "metadata": {},
   "outputs": [],
   "source": [
    "page_path = f\"https://omotenashi.site/company/transportation-equipment/index.html\"\n",
    "for i in range(1, 11):\n",
    "    if i >= 2:\n",
    "        page_path += f\"index_{i}.html\"\n",
    "    else:\n",
    "        page_path = page_path\n",
    "    browser.get(page_path)\n",
    "    time.sleep(.5)\n",
    "    No_com = len(browser.find_elements(\"xpath\", \"//ul[@class = 'entryList01']/li\"))\n",
    "    for i in range(No_com):\n",
    "        i += 1\n",
    "        xpath_url = f\"//ul[@class = 'entryList01']/li[{i}]/a\"\n",
    "        browser.find_element(\"xpath\", xpath_url).click()\n",
    "        time.sleep(1)\n",
    "        element1 = browser.find_element(\"xpath\", \"//*[@class = 'deviceTtl01']\")\n",
    "        element2 = browser.find_element(\"xpath\", \"//*[@class='dataTable01']/tbody/tr[1]/td\")\n",
    "        element3 = browser.find_element(\"xpath\", \"//*[@class = 'dataTable01']/tbody/tr[2]/td/a\")\n",
    "        element4 = browser.find_element(\"xpath\", \"//*[@class = 'dataTable01']/tbody/tr[4]/td/a\")\n",
    "        time.sleep(1)\n",
    "        com_name.append(element1.text[:-5])\n",
    "        com_num.append(element2.text)\n",
    "        com_ind.append(element3.text)\n",
    "        com_market.append(element4.text)\n",
    "        time.sleep(.5)\n",
    "        browser.back()\n",
    "        time.sleep(.5)\n",
    "    page_path = f\"https://omotenashi.site/company/transportation-equipment/\""
   ]
  },
  {
   "attachments": {},
   "cell_type": "markdown",
   "metadata": {},
   "source": [
    "#### 精密機器"
   ]
  },
  {
   "cell_type": "code",
   "execution_count": 21,
   "metadata": {},
   "outputs": [],
   "source": [
    "page_path = f\"https://omotenashi.site/company/precision-instruments/\"\n",
    "for i in range(1, 7):\n",
    "    if i >= 2:\n",
    "        page_path += f\"index_{i}.html\"\n",
    "    else:\n",
    "        page_path = page_path\n",
    "    browser.get(page_path)\n",
    "    time.sleep(.5)\n",
    "    No_com = len(browser.find_elements(\"xpath\", \"//ul[@class = 'entryList01']/li\"))\n",
    "    for i in range(No_com):\n",
    "        i += 1\n",
    "        xpath_url = f\"//ul[@class = 'entryList01']/li[{i}]/a\"\n",
    "        browser.find_element(\"xpath\", xpath_url).click()\n",
    "        time.sleep(1)\n",
    "        element1 = browser.find_element(\"xpath\", \"//*[@class = 'deviceTtl01']\")\n",
    "        element2 = browser.find_element(\"xpath\", \"//*[@class='dataTable01']/tbody/tr[1]/td\")\n",
    "        element3 = browser.find_element(\"xpath\", \"//*[@class = 'dataTable01']/tbody/tr[2]/td/a\")\n",
    "        element4 = browser.find_element(\"xpath\", \"//*[@class = 'dataTable01']/tbody/tr[4]/td/a\")\n",
    "        time.sleep(1)\n",
    "        com_name.append(element1.text[:-5])\n",
    "        com_num.append(element2.text)\n",
    "        com_ind.append(element3.text)\n",
    "        com_market.append(element4.text)\n",
    "        time.sleep(.5)\n",
    "        browser.back()\n",
    "        time.sleep(.5)\n",
    "    page_path = f\"https://omotenashi.site/company/precision-instruments/\""
   ]
  },
  {
   "attachments": {},
   "cell_type": "markdown",
   "metadata": {},
   "source": [
    "#### その他製品"
   ]
  },
  {
   "cell_type": "code",
   "execution_count": 22,
   "metadata": {},
   "outputs": [],
   "source": [
    "page_path = f\"https://omotenashi.site/company/other-products/index.html\"\n",
    "for i in range(1, 12):\n",
    "    if i >= 2:\n",
    "        page_path += f\"index_{i}.html\"\n",
    "    else:\n",
    "        page_path = page_path\n",
    "    browser.get(page_path)\n",
    "    time.sleep(.5)\n",
    "    No_com = len(browser.find_elements(\"xpath\", \"//ul[@class = 'entryList01']/li\"))\n",
    "    for i in range(No_com):\n",
    "        i += 1\n",
    "        xpath_url = f\"//ul[@class = 'entryList01']/li[{i}]/a\"\n",
    "        browser.find_element(\"xpath\", xpath_url).click()\n",
    "        time.sleep(1)\n",
    "        element1 = browser.find_element(\"xpath\", \"//*[@class = 'deviceTtl01']\")\n",
    "        element2 = browser.find_element(\"xpath\", \"//*[@class='dataTable01']/tbody/tr[1]/td\")\n",
    "        element3 = browser.find_element(\"xpath\", \"//*[@class = 'dataTable01']/tbody/tr[2]/td/a\")\n",
    "        element4 = browser.find_element(\"xpath\", \"//*[@class = 'dataTable01']/tbody/tr[4]/td/a\")\n",
    "        time.sleep(1)\n",
    "        com_name.append(element1.text[:-5])\n",
    "        com_num.append(element2.text)\n",
    "        com_ind.append(element3.text)\n",
    "        com_market.append(element4.text)\n",
    "        time.sleep(.5)\n",
    "        browser.back()\n",
    "        time.sleep(.5)\n",
    "    page_path = f\"https://omotenashi.site/company/other-products/\""
   ]
  },
  {
   "attachments": {},
   "cell_type": "markdown",
   "metadata": {},
   "source": [
    "#### 電気・ガス"
   ]
  },
  {
   "cell_type": "code",
   "execution_count": 23,
   "metadata": {},
   "outputs": [],
   "source": [
    "page_path = f\"https://omotenashi.site/company/electric-power-and-gas/\"\n",
    "for i in range(1, 4):\n",
    "    if i >= 2:\n",
    "        page_path += f\"index_{i}.html\"\n",
    "    else:\n",
    "        page_path = page_path\n",
    "    browser.get(page_path)\n",
    "    time.sleep(.5)\n",
    "    No_com = len(browser.find_elements(\"xpath\", \"//ul[@class = 'entryList01']/li\"))\n",
    "    for i in range(No_com):\n",
    "        i += 1\n",
    "        xpath_url = f\"//ul[@class = 'entryList01']/li[{i}]/a\"\n",
    "        browser.find_element(\"xpath\", xpath_url).click()\n",
    "        time.sleep(1)\n",
    "        element1 = browser.find_element(\"xpath\", \"//*[@class = 'deviceTtl01']\")\n",
    "        element2 = browser.find_element(\"xpath\", \"//*[@class='dataTable01']/tbody/tr[1]/td\")\n",
    "        element3 = browser.find_element(\"xpath\", \"//*[@class = 'dataTable01']/tbody/tr[2]/td/a\")\n",
    "        element4 = browser.find_element(\"xpath\", \"//*[@class = 'dataTable01']/tbody/tr[4]/td/a\")\n",
    "        time.sleep(1)\n",
    "        com_name.append(element1.text[:-5])\n",
    "        com_num.append(element2.text)\n",
    "        com_ind.append(element3.text)\n",
    "        com_market.append(element4.text)\n",
    "        time.sleep(.5)\n",
    "        browser.back()\n",
    "        time.sleep(.5)\n",
    "    page_path = f\"https://omotenashi.site/company/electric-power-and-gas/\""
   ]
  },
  {
   "attachments": {},
   "cell_type": "markdown",
   "metadata": {},
   "source": [
    "#### 陸運業"
   ]
  },
  {
   "cell_type": "code",
   "execution_count": 24,
   "metadata": {},
   "outputs": [],
   "source": [
    "page_path = f\"https://omotenashi.site/company/land-transportation/\"\n",
    "for i in range(1, 8):\n",
    "    if i >= 2:\n",
    "        page_path += f\"index_{i}.html\"\n",
    "    else:\n",
    "        page_path = page_path\n",
    "    browser.get(page_path)\n",
    "    time.sleep(.5)\n",
    "    No_com = len(browser.find_elements(\"xpath\", \"//ul[@class = 'entryList01']/li\"))\n",
    "    for i in range(No_com):\n",
    "        i += 1\n",
    "        xpath_url = f\"//ul[@class = 'entryList01']/li[{i}]/a\"\n",
    "        browser.find_element(\"xpath\", xpath_url).click()\n",
    "        time.sleep(1)\n",
    "        element1 = browser.find_element(\"xpath\", \"//*[@class = 'deviceTtl01']\")\n",
    "        element2 = browser.find_element(\"xpath\", \"//*[@class='dataTable01']/tbody/tr[1]/td\")\n",
    "        element3 = browser.find_element(\"xpath\", \"//*[@class = 'dataTable01']/tbody/tr[2]/td/a\")\n",
    "        element4 = browser.find_element(\"xpath\", \"//*[@class = 'dataTable01']/tbody/tr[4]/td/a\")\n",
    "        time.sleep(1)\n",
    "        com_name.append(element1.text[:-5])\n",
    "        com_num.append(element2.text)\n",
    "        com_ind.append(element3.text)\n",
    "        com_market.append(element4.text)\n",
    "        time.sleep(.5)\n",
    "        browser.back()\n",
    "        time.sleep(.5)\n",
    "    page_path = f\"https://omotenashi.site/company/land-transportation/\""
   ]
  },
  {
   "attachments": {},
   "cell_type": "markdown",
   "metadata": {},
   "source": [
    "#### 海運業"
   ]
  },
  {
   "cell_type": "code",
   "execution_count": 25,
   "metadata": {},
   "outputs": [],
   "source": [
    "page_path = f\"https://omotenashi.site/company/marine-transportation/\"\n",
    "for i in range(1, 3):\n",
    "    if i >= 2:\n",
    "        page_path += f\"index_{i}.html\"\n",
    "    else:\n",
    "        page_path = page_path\n",
    "    browser.get(page_path)\n",
    "    time.sleep(.5)\n",
    "    No_com = len(browser.find_elements(\"xpath\", \"//ul[@class = 'entryList01']/li\"))\n",
    "    for i in range(No_com):\n",
    "        i += 1\n",
    "        xpath_url = f\"//ul[@class = 'entryList01']/li[{i}]/a\"\n",
    "        browser.find_element(\"xpath\", xpath_url).click()\n",
    "        time.sleep(1)\n",
    "        element1 = browser.find_element(\"xpath\", \"//*[@class = 'deviceTtl01']\")\n",
    "        element2 = browser.find_element(\"xpath\", \"//*[@class='dataTable01']/tbody/tr[1]/td\")\n",
    "        element3 = browser.find_element(\"xpath\", \"//*[@class = 'dataTable01']/tbody/tr[2]/td/a\")\n",
    "        element4 = browser.find_element(\"xpath\", \"//*[@class = 'dataTable01']/tbody/tr[4]/td/a\")\n",
    "        time.sleep(1)\n",
    "        com_name.append(element1.text[:-5])\n",
    "        com_num.append(element2.text)\n",
    "        com_ind.append(element3.text)\n",
    "        com_market.append(element4.text)\n",
    "        time.sleep(.5)\n",
    "        browser.back()\n",
    "        time.sleep(.5)\n",
    "    page_path = f\"https://omotenashi.site/company/marine-transportation/\""
   ]
  },
  {
   "attachments": {},
   "cell_type": "markdown",
   "metadata": {},
   "source": [
    "#### 空運業"
   ]
  },
  {
   "cell_type": "code",
   "execution_count": 26,
   "metadata": {},
   "outputs": [],
   "source": [
    "browser.get(\"https://omotenashi.site/company/air-transporataion/\")\n",
    "time.sleep(.5)\n",
    "No_com = len(browser.find_elements(\"xpath\", \"//ul[@class = 'entryList01']/li\"))\n",
    "for i in range(No_com):\n",
    "    i += 1\n",
    "    xpath_url = f\"//*[@id='contents']/section/ul/li[{i}]/a\"\n",
    "    browser.find_element(\"xpath\", xpath_url).click()\n",
    "    time.sleep(1)\n",
    "    element1 = browser.find_element(\"xpath\", \"//*[@class = 'deviceTtl01']\")\n",
    "    element2 = browser.find_element(\"xpath\", \"//*[@class='dataTable01']/tbody/tr[1]/td\")\n",
    "    element3 = browser.find_element(\"xpath\", \"//*[@class = 'dataTable01']/tbody/tr[2]/td/a\")\n",
    "    element4 = browser.find_element(\"xpath\", \"//*[@class = 'dataTable01']/tbody/tr[4]/td/a\")\n",
    "    time.sleep(1)\n",
    "    com_name.append(element1.text[:-5])\n",
    "    com_num.append(element2.text)\n",
    "    com_ind.append(element3.text)\n",
    "    com_market.append(element4.text)\n",
    "    time.sleep(.5)\n",
    "    browser.back()\n",
    "    time.sleep(.5)"
   ]
  },
  {
   "attachments": {},
   "cell_type": "markdown",
   "metadata": {},
   "source": [
    "#### 倉庫・運輸"
   ]
  },
  {
   "cell_type": "code",
   "execution_count": 27,
   "metadata": {},
   "outputs": [],
   "source": [
    "page_path = f\"https://omotenashi.site/company/warehousing-and-harbor-transportation/\"\n",
    "for i in range(1, 5):\n",
    "    if i >= 2:\n",
    "        page_path += f\"index_{i}.html\"\n",
    "    else:\n",
    "        page_path = page_path\n",
    "    browser.get(page_path)\n",
    "    time.sleep(.5)\n",
    "    No_com = len(browser.find_elements(\"xpath\", \"//ul[@class = 'entryList01']/li\"))\n",
    "    for i in range(No_com):\n",
    "        i += 1\n",
    "        xpath_url = f\"//ul[@class = 'entryList01']/li[{i}]/a\"\n",
    "        browser.find_element(\"xpath\", xpath_url).click()\n",
    "        time.sleep(1)\n",
    "        element1 = browser.find_element(\"xpath\", \"//*[@class = 'deviceTtl01']\")\n",
    "        element2 = browser.find_element(\"xpath\", \"//*[@class='dataTable01']/tbody/tr[1]/td\")\n",
    "        element3 = browser.find_element(\"xpath\", \"//*[@class = 'dataTable01']/tbody/tr[2]/td/a\")\n",
    "        element4 = browser.find_element(\"xpath\", \"//*[@class = 'dataTable01']/tbody/tr[4]/td/a\")\n",
    "        time.sleep(1)\n",
    "        com_name.append(element1.text[:-5])\n",
    "        com_num.append(element2.text)\n",
    "        com_ind.append(element3.text)\n",
    "        com_market.append(element4.text)\n",
    "        time.sleep(.5)\n",
    "        browser.back()\n",
    "        time.sleep(.5)\n",
    "    page_path = f\"https://omotenashi.site/company/warehousing-and-harbor-transportation/\""
   ]
  },
  {
   "attachments": {},
   "cell_type": "markdown",
   "metadata": {},
   "source": [
    "#### 情報・通信業"
   ]
  },
  {
   "cell_type": "code",
   "execution_count": 28,
   "metadata": {},
   "outputs": [],
   "source": [
    "page_path = f\"https://omotenashi.site/company/information-and-communication/\"\n",
    "for i in range(1, 43):\n",
    "    if i >= 2:\n",
    "        page_path += f\"index_{i}.html\"\n",
    "    else:\n",
    "        page_path = page_path\n",
    "    browser.get(page_path)\n",
    "    time.sleep(.5)\n",
    "    No_com = len(browser.find_elements(\"xpath\", \"//ul[@class = 'entryList01']/li\"))\n",
    "    for i in range(No_com):\n",
    "        i += 1\n",
    "        xpath_url = f\"//ul[@class = 'entryList01']/li[{i}]/a\"\n",
    "        browser.find_element(\"xpath\", xpath_url).click()\n",
    "        time.sleep(1)\n",
    "        element1 = browser.find_element(\"xpath\", \"//*[@class = 'deviceTtl01']\")\n",
    "        element2 = browser.find_element(\"xpath\", \"//*[@class='dataTable01']/tbody/tr[1]/td\")\n",
    "        element3 = browser.find_element(\"xpath\", \"//*[@class = 'dataTable01']/tbody/tr[2]/td/a\")\n",
    "        element4 = browser.find_element(\"xpath\", \"//*[@class = 'dataTable01']/tbody/tr[4]/td/a\")\n",
    "        time.sleep(1)\n",
    "        com_name.append(element1.text[:-5])\n",
    "        com_num.append(element2.text)\n",
    "        com_ind.append(element3.text)\n",
    "        com_market.append(element4.text)\n",
    "        time.sleep(.5)\n",
    "        browser.back()\n",
    "        time.sleep(.5)\n",
    "    page_path = f\"https://omotenashi.site/company/information-and-communication/\""
   ]
  },
  {
   "attachments": {},
   "cell_type": "markdown",
   "metadata": {},
   "source": [
    "#### 卸売業"
   ]
  },
  {
   "cell_type": "code",
   "execution_count": 29,
   "metadata": {},
   "outputs": [],
   "source": [
    "page_path = f\"https://omotenashi.site/company/wholesale-trade/\"\n",
    "for i in range(1, 35):\n",
    "    if i >= 2:\n",
    "        page_path += f\"index_{i}.html\"\n",
    "    else:\n",
    "        page_path = page_path\n",
    "    browser.get(page_path)\n",
    "    time.sleep(.5)\n",
    "    No_com = len(browser.find_elements(\"xpath\", \"//ul[@class = 'entryList01']/li\"))\n",
    "    for i in range(No_com):\n",
    "        i += 1\n",
    "        xpath_url = f\"//ul[@class = 'entryList01']/li[{i}]/a\"\n",
    "        browser.find_element(\"xpath\", xpath_url).click()\n",
    "        time.sleep(1)\n",
    "        element1 = browser.find_element(\"xpath\", \"//*[@class = 'deviceTtl01']\")\n",
    "        element2 = browser.find_element(\"xpath\", \"//*[@class='dataTable01']/tbody/tr[1]/td\")\n",
    "        element3 = browser.find_element(\"xpath\", \"//*[@class = 'dataTable01']/tbody/tr[2]/td/a\")\n",
    "        element4 = browser.find_element(\"xpath\", \"//*[@class = 'dataTable01']/tbody/tr[4]/td/a\")\n",
    "        time.sleep(1)\n",
    "        com_name.append(element1.text[:-5])\n",
    "        com_num.append(element2.text)\n",
    "        com_ind.append(element3.text)\n",
    "        com_market.append(element4.text)\n",
    "        time.sleep(.5)\n",
    "        browser.back()\n",
    "        time.sleep(.5)\n",
    "    page_path = f\"https://omotenashi.site/company/wholesale-trade/\""
   ]
  },
  {
   "attachments": {},
   "cell_type": "markdown",
   "metadata": {},
   "source": [
    "#### 小売業"
   ]
  },
  {
   "cell_type": "code",
   "execution_count": 30,
   "metadata": {},
   "outputs": [],
   "source": [
    "page_path = f\"https://omotenashi.site/company/retail-trade/\"\n",
    "for i in range(1, 37):\n",
    "    if i >= 2:\n",
    "        page_path += f\"index_{i}.html\"\n",
    "    else:\n",
    "        page_path = page_path\n",
    "    browser.get(page_path)\n",
    "    time.sleep(.5)\n",
    "    No_com = len(browser.find_elements(\"xpath\", \"//ul[@class = 'entryList01']/li\"))\n",
    "    for i in range(No_com):\n",
    "        i += 1\n",
    "        xpath_url = f\"//ul[@class = 'entryList01']/li[{i}]/a\"\n",
    "        browser.find_element(\"xpath\", xpath_url).click()\n",
    "        time.sleep(1)\n",
    "        element1 = browser.find_element(\"xpath\", \"//*[@class = 'deviceTtl01']\")\n",
    "        element2 = browser.find_element(\"xpath\", \"//*[@class='dataTable01']/tbody/tr[1]/td\")\n",
    "        element3 = browser.find_element(\"xpath\", \"//*[@class = 'dataTable01']/tbody/tr[2]/td/a\")\n",
    "        element4 = browser.find_element(\"xpath\", \"//*[@class = 'dataTable01']/tbody/tr[4]/td/a\")\n",
    "        time.sleep(1)\n",
    "        com_name.append(element1.text[:-5])\n",
    "        com_num.append(element2.text)\n",
    "        com_ind.append(element3.text)\n",
    "        com_market.append(element4.text)\n",
    "        time.sleep(.5)\n",
    "        browser.back()\n",
    "        time.sleep(.5)\n",
    "    page_path = f\"https://omotenashi.site/company/retail-trade/\""
   ]
  },
  {
   "attachments": {},
   "cell_type": "markdown",
   "metadata": {},
   "source": [
    "#### 銀行業"
   ]
  },
  {
   "cell_type": "code",
   "execution_count": 31,
   "metadata": {},
   "outputs": [],
   "source": [
    "page_path = f\"https://omotenashi.site/company/banks/\"\n",
    "for i in range(1, 11):\n",
    "    if i >= 2:\n",
    "        page_path += f\"index_{i}.html\"\n",
    "    else:\n",
    "        page_path = page_path\n",
    "    browser.get(page_path)\n",
    "    time.sleep(.5)\n",
    "    No_com = len(browser.find_elements(\"xpath\", \"//ul[@class = 'entryList01']/li\"))\n",
    "    for i in range(No_com):\n",
    "        i += 1\n",
    "        xpath_url = f\"//ul[@class = 'entryList01']/li[{i}]/a\"\n",
    "        browser.find_element(\"xpath\", xpath_url).click()\n",
    "        time.sleep(1)\n",
    "        element1 = browser.find_element(\"xpath\", \"//*[@class = 'deviceTtl01']\")\n",
    "        element2 = browser.find_element(\"xpath\", \"//*[@class='dataTable01']/tbody/tr[1]/td\")\n",
    "        element3 = browser.find_element(\"xpath\", \"//*[@class = 'dataTable01']/tbody/tr[2]/td/a\")\n",
    "        element4 = browser.find_element(\"xpath\", \"//*[@class = 'dataTable01']/tbody/tr[4]/td/a\")\n",
    "        time.sleep(1)\n",
    "        com_name.append(element1.text[:-5])\n",
    "        com_num.append(element2.text)\n",
    "        com_ind.append(element3.text)\n",
    "        com_market.append(element4.text)\n",
    "        time.sleep(.5)\n",
    "        browser.back()\n",
    "        time.sleep(.5)\n",
    "    page_path = f\"https://omotenashi.site/company/banks/\""
   ]
  },
  {
   "attachments": {},
   "cell_type": "markdown",
   "metadata": {},
   "source": [
    "#### 証券・商品"
   ]
  },
  {
   "cell_type": "code",
   "execution_count": 32,
   "metadata": {},
   "outputs": [],
   "source": [
    "page_path = f\"https://omotenashi.site/company/securities-and-commodities-futures/\"\n",
    "for i in range(1, 6):\n",
    "    if i >= 2:\n",
    "        page_path += f\"index_{i}.html\"\n",
    "    else:\n",
    "        page_path = page_path\n",
    "    browser.get(page_path)\n",
    "    time.sleep(.5)\n",
    "    No_com = len(browser.find_elements(\"xpath\", \"//ul[@class = 'entryList01']/li\"))\n",
    "    for i in range(No_com):\n",
    "        i += 1\n",
    "        xpath_url = f\"//ul[@class = 'entryList01']/li[{i}]/a\"\n",
    "        browser.find_element(\"xpath\", xpath_url).click()\n",
    "        time.sleep(1)\n",
    "        element1 = browser.find_element(\"xpath\", \"//*[@class = 'deviceTtl01']\")\n",
    "        element2 = browser.find_element(\"xpath\", \"//*[@class='dataTable01']/tbody/tr[1]/td\")\n",
    "        element3 = browser.find_element(\"xpath\", \"//*[@class = 'dataTable01']/tbody/tr[2]/td/a\")\n",
    "        element4 = browser.find_element(\"xpath\", \"//*[@class = 'dataTable01']/tbody/tr[4]/td/a\")\n",
    "        time.sleep(1)\n",
    "        com_name.append(element1.text[:-5])\n",
    "        com_num.append(element2.text)\n",
    "        com_ind.append(element3.text)\n",
    "        com_market.append(element4.text)\n",
    "        time.sleep(.5)\n",
    "        browser.back()\n",
    "        time.sleep(.5)\n",
    "    page_path = f\"https://omotenashi.site/company/securities-and-commodities-futures/\""
   ]
  },
  {
   "attachments": {},
   "cell_type": "markdown",
   "metadata": {},
   "source": [
    "#### 保険業"
   ]
  },
  {
   "cell_type": "code",
   "execution_count": 33,
   "metadata": {},
   "outputs": [],
   "source": [
    "page_path = f\"https://omotenashi.site/company/insurance/\"\n",
    "for i in range(1, 3):\n",
    "    if i >= 2:\n",
    "        page_path += f\"index_{i}.html\"\n",
    "    else:\n",
    "        page_path = page_path\n",
    "    browser.get(page_path)\n",
    "    time.sleep(.5)\n",
    "    No_com = len(browser.find_elements(\"xpath\", \"//ul[@class = 'entryList01']/li\"))\n",
    "    for i in range(No_com):\n",
    "        i += 1\n",
    "        xpath_url = f\"//ul[@class = 'entryList01']/li[{i}]/a\"\n",
    "        browser.find_element(\"xpath\", xpath_url).click()\n",
    "        time.sleep(1)\n",
    "        element1 = browser.find_element(\"xpath\", \"//*[@class = 'deviceTtl01']\")\n",
    "        element2 = browser.find_element(\"xpath\", \"//*[@class='dataTable01']/tbody/tr[1]/td\")\n",
    "        element3 = browser.find_element(\"xpath\", \"//*[@class = 'dataTable01']/tbody/tr[2]/td/a\")\n",
    "        element4 = browser.find_element(\"xpath\", \"//*[@class = 'dataTable01']/tbody/tr[4]/td/a\")\n",
    "        time.sleep(1)\n",
    "        com_name.append(element1.text[:-5])\n",
    "        com_num.append(element2.text)\n",
    "        com_ind.append(element3.text)\n",
    "        com_market.append(element4.text)\n",
    "        time.sleep(.5)\n",
    "        browser.back()\n",
    "        time.sleep(.5)\n",
    "    page_path = f\"https://omotenashi.site/company/insurance/\""
   ]
  },
  {
   "attachments": {},
   "cell_type": "markdown",
   "metadata": {},
   "source": [
    "#### 不動産業"
   ]
  },
  {
   "cell_type": "code",
   "execution_count": 34,
   "metadata": {},
   "outputs": [],
   "source": [
    "page_path = f\"https://omotenashi.site/company/real-estate/\"\n",
    "for i in range(1, 14):\n",
    "    if i >= 2:\n",
    "        page_path += f\"index_{i}.html\"\n",
    "    else:\n",
    "        page_path = page_path\n",
    "    browser.get(page_path)\n",
    "    time.sleep(.5)\n",
    "    No_com = len(browser.find_elements(\"xpath\", \"//ul[@class = 'entryList01']/li\"))\n",
    "    for i in range(No_com):\n",
    "        i += 1\n",
    "        xpath_url = f\"//ul[@class = 'entryList01']/li[{i}]/a\"\n",
    "        browser.find_element(\"xpath\", xpath_url).click()\n",
    "        time.sleep(1)\n",
    "        element1 = browser.find_element(\"xpath\", \"//*[@class = 'deviceTtl01']\")\n",
    "        element2 = browser.find_element(\"xpath\", \"//*[@class='dataTable01']/tbody/tr[1]/td\")\n",
    "        element3 = browser.find_element(\"xpath\", \"//*[@class = 'dataTable01']/tbody/tr[2]/td/a\")\n",
    "        element4 = browser.find_element(\"xpath\", \"//*[@class = 'dataTable01']/tbody/tr[4]/td/a\")\n",
    "        time.sleep(1)\n",
    "        com_name.append(element1.text[:-5])\n",
    "        com_num.append(element2.text)\n",
    "        com_ind.append(element3.text)\n",
    "        com_market.append(element4.text)\n",
    "        time.sleep(.5)\n",
    "        browser.back()\n",
    "        time.sleep(.5)\n",
    "    page_path = f\"https://omotenashi.site/company/real-estate/\""
   ]
  },
  {
   "attachments": {},
   "cell_type": "markdown",
   "metadata": {},
   "source": [
    "#### サービス業"
   ]
  },
  {
   "cell_type": "code",
   "execution_count": 35,
   "metadata": {},
   "outputs": [],
   "source": [
    "page_path = f\"https://omotenashi.site/company/services/\"\n",
    "for i in range(1, 44):\n",
    "    if i >= 2:\n",
    "        page_path += f\"index_{i}.html\"\n",
    "    else:\n",
    "        page_path = page_path\n",
    "    browser.get(page_path)\n",
    "    time.sleep(.5)\n",
    "    No_com = len(browser.find_elements(\"xpath\", \"//ul[@class = 'entryList01']/li\"))\n",
    "    for i in range(No_com):\n",
    "        i += 1\n",
    "        xpath_url = f\"//ul[@class = 'entryList01']/li[{i}]/a\"\n",
    "        browser.find_element(\"xpath\", xpath_url).click()\n",
    "        time.sleep(1)\n",
    "        element1 = browser.find_element(\"xpath\", \"//*[@class = 'deviceTtl01']\")\n",
    "        element2 = browser.find_element(\"xpath\", \"//*[@class='dataTable01']/tbody/tr[1]/td\")\n",
    "        element3 = browser.find_element(\"xpath\", \"//*[@class = 'dataTable01']/tbody/tr[2]/td/a\")\n",
    "        element4 = browser.find_element(\"xpath\", \"//*[@class = 'dataTable01']/tbody/tr[4]/td/a\")\n",
    "        time.sleep(1)\n",
    "        com_name.append(element1.text[:-5])\n",
    "        com_num.append(element2.text)\n",
    "        com_ind.append(element3.text)\n",
    "        com_market.append(element4.text)\n",
    "        time.sleep(.5)\n",
    "        browser.back()\n",
    "        time.sleep(.5)\n",
    "    page_path = f\"https://omotenashi.site/company/services/\""
   ]
  },
  {
   "attachments": {},
   "cell_type": "markdown",
   "metadata": {},
   "source": [
    "#### 繊維製品"
   ]
  },
  {
   "cell_type": "code",
   "execution_count": 36,
   "metadata": {},
   "outputs": [],
   "source": [
    "page_path = f\"https://omotenashi.site/company/fiber-products/\"\n",
    "for i in range(1, 7):\n",
    "    if i >= 2:\n",
    "        page_path += f\"index_{i}.html\"\n",
    "    else:\n",
    "        page_path = page_path\n",
    "    browser.get(page_path)\n",
    "    time.sleep(.5)\n",
    "    No_com = len(browser.find_elements(\"xpath\", \"//ul[@class = 'entryList01']/li\"))\n",
    "    for i in range(No_com):\n",
    "        i += 1\n",
    "        xpath_url = f\"//ul[@class = 'entryList01']/li[{i}]/a\"\n",
    "        browser.find_element(\"xpath\", xpath_url).click()\n",
    "        time.sleep(1)\n",
    "        element1 = browser.find_element(\"xpath\", \"//*[@class = 'deviceTtl01']\")\n",
    "        element2 = browser.find_element(\"xpath\", \"//*[@class='dataTable01']/tbody/tr[1]/td\")\n",
    "        element3 = browser.find_element(\"xpath\", \"//*[@class = 'dataTable01']/tbody/tr[2]/td/a\")\n",
    "        element4 = browser.find_element(\"xpath\", \"//*[@class = 'dataTable01']/tbody/tr[4]/td/a\")\n",
    "        time.sleep(1)\n",
    "        com_name.append(element1.text[:-5])\n",
    "        com_num.append(element2.text)\n",
    "        com_ind.append(element3.text)\n",
    "        com_market.append(element4.text)\n",
    "        time.sleep(.5)\n",
    "        browser.back()\n",
    "        time.sleep(.5)\n",
    "    page_path = f\"https://omotenashi.site/company/fiber-products/\""
   ]
  },
  {
   "attachments": {},
   "cell_type": "markdown",
   "metadata": {},
   "source": [
    "#### その他金融業"
   ]
  },
  {
   "cell_type": "code",
   "execution_count": 37,
   "metadata": {},
   "outputs": [],
   "source": [
    "page_path = f\"https://omotenashi.site/company/other-financial-industry/\"\n",
    "for i in range(1, 5):\n",
    "    if i >= 2:\n",
    "        page_path += f\"index_{i}.html\"\n",
    "    else:\n",
    "        page_path = page_path\n",
    "    browser.get(page_path)\n",
    "    time.sleep(.5)\n",
    "    No_com = len(browser.find_elements(\"xpath\", \"//ul[@class = 'entryList01']/li\"))\n",
    "    for i in range(No_com):\n",
    "        i += 1\n",
    "        xpath_url = f\"//ul[@class = 'entryList01']/li[{i}]/a\"\n",
    "        browser.find_element(\"xpath\", xpath_url).click()\n",
    "        time.sleep(1)\n",
    "        element1 = browser.find_element(\"xpath\", \"//*[@class = 'deviceTtl01']\")\n",
    "        element2 = browser.find_element(\"xpath\", \"//*[@class='dataTable01']/tbody/tr[1]/td\")\n",
    "        element3 = browser.find_element(\"xpath\", \"//*[@class = 'dataTable01']/tbody/tr[2]/td/a\")\n",
    "        element4 = browser.find_element(\"xpath\", \"//*[@class = 'dataTable01']/tbody/tr[4]/td/a\")\n",
    "        time.sleep(1)\n",
    "        com_name.append(element1.text[:-5])\n",
    "        com_num.append(element2.text)\n",
    "        com_ind.append(element3.text)\n",
    "        com_market.append(element4.text)\n",
    "        time.sleep(.5)\n",
    "        browser.back()\n",
    "        time.sleep(.5)\n",
    "    page_path = f\"https://omotenashi.site/company/other-financial-industry/\""
   ]
  },
  {
   "cell_type": "code",
   "execution_count": null,
   "metadata": {},
   "outputs": [],
   "source": [
    "browser.close()"
   ]
  },
  {
   "cell_type": "code",
   "execution_count": 39,
   "metadata": {},
   "outputs": [],
   "source": [
    "omotenashi_zip = list(zip(com_name, com_num, com_ind, com_market))\n",
    "dat1 = pd.DataFrame(omotenashi_zip, columns = ['Company Name', 'Stock Code', 'Industry33', 'Stock Market'])"
   ]
  },
  {
   "attachments": {},
   "cell_type": "markdown",
   "metadata": {},
   "source": [
    "## みんかぶサイト"
   ]
  },
  {
   "cell_type": "code",
   "execution_count": 118,
   "metadata": {},
   "outputs": [],
   "source": [
    "company_name = []\n",
    "company_number = []\n",
    "company_industry = []\n",
    "company_market = []"
   ]
  },
  {
   "attachments": {},
   "cell_type": "markdown",
   "metadata": {},
   "source": [
    "#### 農林水産業"
   ]
  },
  {
   "cell_type": "code",
   "execution_count": 4,
   "metadata": {},
   "outputs": [],
   "source": [
    "CHROME_DRIVER = \"C:/Users/ichir.DESKTOP-5SIALMV/Documents/seminar/chrome_driver/chromedriver.exe\"\n",
    "chrome_service = service.Service(executable_path = CHROME_DRIVER)\n",
    "browser = webdriver.Chrome(service=chrome_service)"
   ]
  },
  {
   "cell_type": "code",
   "execution_count": 5,
   "metadata": {},
   "outputs": [],
   "source": [
    "browser.get(\"https://minkabu.jp/stock/stocksitemap/1\")\n",
    "company_name1 = []\n",
    "company_number1 = []\n",
    "company_industry1 = []\n",
    "company_market1 = []\n",
    "companies_list = browser.find_elements(\"xpath\", \"//table[@class = 'md_table']/tbody/tr/td[@class = 'vamd']\")\n",
    "for i in range(len(companies_list)):\n",
    "    i += 2\n",
    "    com_url = f\"//table[@class = 'md_table']/tbody/tr[{i}]/td[@class = 'vamd']/div[2]/a\"\n",
    "    browser.find_element(\"xpath\", com_url).click()\n",
    "    com_name = browser.find_element(\"xpath\", \"//p[@class = 'md_stockBoard_stockName']\")\n",
    "    com_number_and_market = browser.find_element(\"xpath\", \"//div[@class = 'stock_label']\")\n",
    "    com_ind =  browser.find_element(\"xpath\", \"//a[@href = '/stock/stocksitemap/1']\")\n",
    "    time.sleep(.5)\n",
    "    company_name1.append(com_name.text)\n",
    "    company_number1.append(com_number_and_market.text[:4])\n",
    "    company_market1.append(com_number_and_market.text[6:])\n",
    "    company_industry1.append(com_ind.text)\n",
    "    browser.back()\n",
    "    time.sleep(.5)"
   ]
  },
  {
   "cell_type": "code",
   "execution_count": 6,
   "metadata": {},
   "outputs": [],
   "source": [
    "browser.close()"
   ]
  },
  {
   "cell_type": "code",
   "execution_count": 7,
   "metadata": {},
   "outputs": [],
   "source": [
    "company_name += company_name1\n",
    "company_number += company_number1\n",
    "company_industry += company_industry1\n",
    "company_market += company_market1"
   ]
  },
  {
   "attachments": {},
   "cell_type": "markdown",
   "metadata": {},
   "source": [
    "#### 鉱業"
   ]
  },
  {
   "cell_type": "code",
   "execution_count": 10,
   "metadata": {},
   "outputs": [],
   "source": [
    "CHROME_DRIVER = \"C:/Users/ichir/Documents/seminar/chrome_driver/chromedriver.exe\"\n",
    "chrome_service = service.Service(executable_path = CHROME_DRIVER)\n",
    "browser = webdriver.Chrome(service=chrome_service)"
   ]
  },
  {
   "cell_type": "code",
   "execution_count": 11,
   "metadata": {},
   "outputs": [],
   "source": [
    "browser.get(\"https://minkabu.jp/stock/stocksitemap/2\")\n",
    "company_name2 = []\n",
    "company_number2 = []\n",
    "company_industry2 = []\n",
    "company_market2 = []\n",
    "companies_list = browser.find_elements(\"xpath\", \"//table[@class = 'md_table']/tbody/tr/td[@class = 'vamd']\")\n",
    "for i in range(len(companies_list)):\n",
    "    i += 2\n",
    "    com_url = f\"//table[@class = 'md_table']/tbody/tr[{i}]/td[@class = 'vamd']/div[2]/a\"\n",
    "    browser.find_element(\"xpath\", com_url).click()\n",
    "    com_name = browser.find_element(\"xpath\", \"//p[@class = 'md_stockBoard_stockName']\")\n",
    "    com_number_and_market = browser.find_element(\"xpath\", \"//div[@class = 'stock_label']\")\n",
    "    com_ind =  browser.find_element(\"xpath\", \"//a[@href = '/stock/stocksitemap/2']\")\n",
    "    time.sleep(.5)\n",
    "    company_name2.append(com_name.text)\n",
    "    company_number2.append(com_number_and_market.text[:4])\n",
    "    company_market2.append(com_number_and_market.text[6:])\n",
    "    company_industry2.append(com_ind.text)\n",
    "    browser.back()\n",
    "    time.sleep(.5)"
   ]
  },
  {
   "cell_type": "code",
   "execution_count": 12,
   "metadata": {},
   "outputs": [],
   "source": [
    "browser.close()"
   ]
  },
  {
   "cell_type": "code",
   "execution_count": 13,
   "metadata": {},
   "outputs": [],
   "source": [
    "company_name += company_name2\n",
    "company_number += company_number2\n",
    "company_industry += company_industry2\n",
    "company_market += company_market2\n",
    "time.sleep(10)"
   ]
  },
  {
   "attachments": {},
   "cell_type": "markdown",
   "metadata": {},
   "source": [
    "#### 建設業"
   ]
  },
  {
   "cell_type": "code",
   "execution_count": 20,
   "metadata": {},
   "outputs": [],
   "source": [
    "CHROME_DRIVER = \"C:/Users/ichir/Documents/seminar/chrome_driver/chromedriver.exe\"\n",
    "chrome_service = service.Service(executable_path = CHROME_DRIVER)\n",
    "browser = webdriver.Chrome(service=chrome_service)\n",
    "time.sleep(2)"
   ]
  },
  {
   "cell_type": "code",
   "execution_count": 21,
   "metadata": {},
   "outputs": [],
   "source": [
    "page_sub_url = f\"https://minkabu.jp/stock/stocksitemap/3\"\n",
    "company_name3 = []\n",
    "company_number3 = []\n",
    "company_industry3 = []\n",
    "company_market3 = []\n",
    "for i in range(1, 14):\n",
    "    if i != 1:\n",
    "        page_url = page_sub_url + f\"?page={i}\"\n",
    "    else:\n",
    "        page_url = page_sub_url\n",
    "    browser.get(page_url)\n",
    "    time.sleep(1)\n",
    "    companies_list = browser.find_elements(\"xpath\", \"//table[@class = 'md_table']/tbody/tr/td[@class = 'vamd']\")\n",
    "    for j in range(len(companies_list)):\n",
    "        j += 2\n",
    "        if (i == 1) & (j == 15):\n",
    "            time.sleep(2)\n",
    "        elif (i == 1) & (j == 19):\n",
    "            time.sleep(2)\n",
    "        elif (i == 13) & (j == 7):\n",
    "            time.sleep(2)   \n",
    "        else:\n",
    "            com_path = f\"//table[@class = 'md_table']/tbody/tr[{j}]/td/div[2]/a\"\n",
    "            browser.find_element(\"xpath\", com_path).click()\n",
    "            time.sleep(1)\n",
    "            com_name = browser.find_element(\"xpath\", \"//div[@class = 'md_stockBoard_header md_box']/div[@class = 'ly_row']/div/div[@class = 'ly_col ly_colsize_7']/h1/a/p[@class = 'md_stockBoard_stockName']\")\n",
    "            com_number_and_market = browser.find_element(\"xpath\", \"//div[@class = 'stock_label']\")\n",
    "            com_ind = browser.find_element(\"xpath\", \"//a[@href = '/stock/stocksitemap/3']\")\n",
    "            time.sleep(2)\n",
    "            company_name3.append(com_name.text)\n",
    "            company_number3.append(com_number_and_market.text[:4])\n",
    "            company_industry3.append(com_ind.text)\n",
    "            company_market3.append(com_number_and_market.text[6:])\n",
    "            time.sleep(1)\n",
    "            browser.back()\n",
    "            time.sleep(1)\n",
    "            "
   ]
  },
  {
   "cell_type": "code",
   "execution_count": 22,
   "metadata": {},
   "outputs": [],
   "source": [
    "company_name += company_name3\n",
    "company_number += company_number3\n",
    "company_industry += company_industry3\n",
    "company_market += company_market3"
   ]
  },
  {
   "cell_type": "code",
   "execution_count": 23,
   "metadata": {},
   "outputs": [],
   "source": [
    "browser.close()\n",
    "time.sleep(10)"
   ]
  },
  {
   "attachments": {},
   "cell_type": "markdown",
   "metadata": {},
   "source": [
    "#### 食料品"
   ]
  },
  {
   "cell_type": "code",
   "execution_count": 24,
   "metadata": {},
   "outputs": [],
   "source": [
    "CHROME_DRIVER = \"C:/Users/ichir/Documents/seminar/chrome_driver/chromedriver.exe\"\n",
    "chrome_service = service.Service(executable_path = CHROME_DRIVER)\n",
    "browser = webdriver.Chrome(service=chrome_service)\n",
    "time.sleep(2)"
   ]
  },
  {
   "cell_type": "code",
   "execution_count": 25,
   "metadata": {},
   "outputs": [],
   "source": [
    "page_sub_url = f\"https://minkabu.jp/stock/stocksitemap/4\"\n",
    "company_name4 = []\n",
    "company_number4 = []\n",
    "company_industry4 = []\n",
    "company_market4 = []\n",
    "for i in range(1, 10):\n",
    "    if i != 1:\n",
    "        page_url = page_sub_url + f\"?page={i}\"\n",
    "    else:\n",
    "        page_url = page_sub_url\n",
    "    browser.get(page_url)\n",
    "    time.sleep(2)\n",
    "    companies_list = browser.find_elements(\"xpath\", \"//table[@class = 'md_table']/tbody/tr/td[@class = 'vamd']\")\n",
    "    for j in range(len(companies_list)):\n",
    "        j += 2\n",
    "        if (i == 3) & (j == 7):\n",
    "            time.sleep(2)\n",
    "        else:\n",
    "            com_path = f\"//table[@class = 'md_table']/tbody/tr[{j}]/td/div[2]/a\"\n",
    "            browser.find_element(\"xpath\", com_path).click()\n",
    "            time.sleep(1)\n",
    "            com_name = browser.find_element(\"xpath\", \"//div[@id = 'contents']/div[@class = 'mb10']/div[@class = 'md_title']/h2[@class = 'title_box']\")\n",
    "            com_number_and_market = browser.find_element(\"xpath\", \"//div[@class = 'stock_label']\")\n",
    "            com_ind = browser.find_element(\"xpath\", \"//a[@href = '/stock/stocksitemap/4']\")\n",
    "            time.sleep(5)\n",
    "            company_name4.append(com_name.text[:-8])\n",
    "            company_number4.append(com_number_and_market.text[:4])\n",
    "            company_industry4.append(com_ind.text)\n",
    "            company_market4.append(com_number_and_market.text[6:])\n",
    "            time.sleep(2)\n",
    "            browser.back()\n",
    "            time.sleep(1)"
   ]
  },
  {
   "cell_type": "code",
   "execution_count": 26,
   "metadata": {},
   "outputs": [],
   "source": [
    "browser.close()"
   ]
  },
  {
   "cell_type": "code",
   "execution_count": 27,
   "metadata": {},
   "outputs": [],
   "source": [
    "company_name += company_name4\n",
    "company_number += company_number4\n",
    "company_industry += company_industry4\n",
    "company_market += company_market4\n",
    "time.sleep(10)"
   ]
  },
  {
   "attachments": {},
   "cell_type": "markdown",
   "metadata": {},
   "source": [
    "#### 繊維製品"
   ]
  },
  {
   "cell_type": "code",
   "execution_count": 28,
   "metadata": {},
   "outputs": [],
   "source": [
    "CHROME_DRIVER = \"C:/Users/ichir/Documents/seminar/chrome_driver/chromedriver.exe\"\n",
    "chrome_service = service.Service(executable_path = CHROME_DRIVER)\n",
    "browser = webdriver.Chrome(service=chrome_service)\n",
    "time.sleep(2)"
   ]
  },
  {
   "cell_type": "code",
   "execution_count": 29,
   "metadata": {},
   "outputs": [],
   "source": [
    "page_sub_url = f\"https://minkabu.jp/stock/stocksitemap/5\"\n",
    "company_name5 = []\n",
    "company_number5 = []\n",
    "company_industry5 = []\n",
    "company_market5 = []\n",
    "for i in range(1, 5):\n",
    "    if i != 1:\n",
    "        page_url = page_sub_url + f\"?page={i}\"\n",
    "    else:\n",
    "        page_url = page_sub_url\n",
    "    browser.get(page_url)\n",
    "    time.sleep(2)\n",
    "    companies_list = browser.find_elements(\"xpath\", \"//table[@class = 'md_table']/tbody/tr/td[@class = 'vamd']\")\n",
    "    for j in range(len(companies_list)):\n",
    "        j += 2\n",
    "        if (i == 3) & (j == 20):\n",
    "            time.sleep(2)\n",
    "        else:\n",
    "            com_path = f\"//table[@class = 'md_table']/tbody/tr[{j}]/td/div[2]/a\"\n",
    "            browser.find_element(\"xpath\", com_path).click()\n",
    "            time.sleep(1)\n",
    "            com_name = browser.find_element(\"xpath\", \"//div[@id = 'contents']/div[@class = 'mb10']/div[@class = 'md_title']/h2[@class = 'title_box']\")\n",
    "            com_number_and_market = browser.find_element(\"xpath\", \"//div[@class = 'stock_label']\")\n",
    "            com_ind = browser.find_element(\"xpath\", \"//a[@href = '/stock/stocksitemap/5']\")\n",
    "            time.sleep(5)\n",
    "            company_name5.append(com_name.text[:-8])\n",
    "            company_number5.append(com_number_and_market.text[:4])\n",
    "            company_industry5.append(com_ind.text)\n",
    "            company_market5.append(com_number_and_market.text[6:])\n",
    "            time.sleep(2)\n",
    "            browser.back()\n",
    "            time.sleep(1)"
   ]
  },
  {
   "cell_type": "code",
   "execution_count": 30,
   "metadata": {},
   "outputs": [],
   "source": [
    "browser.close()"
   ]
  },
  {
   "cell_type": "code",
   "execution_count": 31,
   "metadata": {},
   "outputs": [],
   "source": [
    "company_name += company_name5\n",
    "company_number += company_number5\n",
    "company_industry += company_industry5\n",
    "company_market += company_market5\n",
    "time.sleep(10)"
   ]
  },
  {
   "attachments": {},
   "cell_type": "markdown",
   "metadata": {},
   "source": [
    "#### パルプ・紙"
   ]
  },
  {
   "cell_type": "code",
   "execution_count": 32,
   "metadata": {},
   "outputs": [],
   "source": [
    "CHROME_DRIVER = \"C:/Users/ichir/Documents/seminar/chrome_driver/chromedriver.exe\"\n",
    "chrome_service = service.Service(executable_path = CHROME_DRIVER)\n",
    "browser = webdriver.Chrome(service=chrome_service)\n",
    "time.sleep(2)"
   ]
  },
  {
   "cell_type": "code",
   "execution_count": 33,
   "metadata": {},
   "outputs": [],
   "source": [
    "page_sub_url = f\"https://minkabu.jp/stock/stocksitemap/6\"\n",
    "company_name6 = []\n",
    "company_number6 = []\n",
    "company_industry6 = []\n",
    "company_market6 = []\n",
    "for i in range(1, 3):\n",
    "    if i != 1:\n",
    "        page_url = page_sub_url + f\"?page={i}\"\n",
    "    else:\n",
    "        page_url = page_sub_url\n",
    "    browser.get(page_url)\n",
    "    time.sleep(2)\n",
    "    companies_list = browser.find_elements(\"xpath\", \"//table[@class = 'md_table']/tbody/tr/td[@class = 'vamd']\")\n",
    "    for j in range(len(companies_list)):\n",
    "        j += 2\n",
    "        com_path = f\"//table[@class = 'md_table']/tbody/tr[{j}]/td/div[2]/a\"\n",
    "        browser.find_element(\"xpath\", com_path).click()\n",
    "        time.sleep(1)\n",
    "        com_name = browser.find_element(\"xpath\", \"//div[@id = 'contents']/div[@class = 'mb10']/div[@class = 'md_title']/h2[@class = 'title_box']\")\n",
    "        com_number_and_market = browser.find_element(\"xpath\", \"//div[@class = 'stock_label']\")\n",
    "        com_ind = browser.find_element(\"xpath\", \"//a[@href = '/stock/stocksitemap/6']\")\n",
    "        time.sleep(5)\n",
    "        company_name6.append(com_name.text[:-8])\n",
    "        company_number5.append(com_number_and_market.text[:4])\n",
    "        company_industry6.append(com_ind.text)\n",
    "        company_market6.append(com_number_and_market.text[6:])\n",
    "        time.sleep(2)\n",
    "        browser.back()\n",
    "        time.sleep(1)"
   ]
  },
  {
   "cell_type": "code",
   "execution_count": 34,
   "metadata": {},
   "outputs": [],
   "source": [
    "browser.close()"
   ]
  },
  {
   "cell_type": "code",
   "execution_count": 35,
   "metadata": {},
   "outputs": [],
   "source": [
    "company_name += company_name6\n",
    "company_number += company_number6\n",
    "company_industry += company_industry6\n",
    "company_market += company_market6\n",
    "time.sleep(10)"
   ]
  },
  {
   "attachments": {},
   "cell_type": "markdown",
   "metadata": {},
   "source": [
    "#### 化学"
   ]
  },
  {
   "cell_type": "code",
   "execution_count": 36,
   "metadata": {},
   "outputs": [],
   "source": [
    "CHROME_DRIVER = \"C:/Users/ichir/Documents/seminar/chrome_driver/chromedriver.exe\"\n",
    "chrome_service = service.Service(executable_path = CHROME_DRIVER)\n",
    "browser = webdriver.Chrome(service=chrome_service)\n",
    "time.sleep(2)"
   ]
  },
  {
   "cell_type": "code",
   "execution_count": 37,
   "metadata": {},
   "outputs": [],
   "source": [
    "page_sub_url = f\"https://minkabu.jp/stock/stocksitemap/7\"\n",
    "company_name7 = []\n",
    "company_number7 = []\n",
    "company_industry7 = []\n",
    "company_market7 = []\n",
    "for i in range(1, 14):\n",
    "    if i != 1:\n",
    "        page_url = page_sub_url + f\"?page={i}\"\n",
    "    else:\n",
    "        page_url = page_sub_url\n",
    "    browser.get(page_url)\n",
    "    time.sleep(2)\n",
    "    companies_list = browser.find_elements(\"xpath\", \"//table[@class = 'md_table']/tbody/tr/td[@class = 'vamd']\")\n",
    "    for j in range(len(companies_list)):\n",
    "        j += 2\n",
    "        com_path = f\"//table[@class = 'md_table']/tbody/tr[{j}]/td/div[2]/a\"\n",
    "        browser.find_element(\"xpath\", com_path).click()\n",
    "        time.sleep(1)\n",
    "        com_name = browser.find_element(\"xpath\", \"//div[@id = 'contents']/div[@class = 'mb10']/div[@class = 'md_title']/h2[@class = 'title_box']\")\n",
    "        com_number_and_market = browser.find_element(\"xpath\", \"//div[@class = 'stock_label']\")\n",
    "        com_ind = browser.find_element(\"xpath\", \"//a[@href = '/stock/stocksitemap/7']\")\n",
    "        time.sleep(5)\n",
    "        company_name7.append(com_name.text[:-8])\n",
    "        company_number7.append(com_number_and_market.text[:4])\n",
    "        company_industry7.append(com_ind.text)\n",
    "        company_market7.append(com_number_and_market.text[6:])\n",
    "        time.sleep(2)\n",
    "        browser.back()\n",
    "        time.sleep(1)"
   ]
  },
  {
   "cell_type": "code",
   "execution_count": 38,
   "metadata": {},
   "outputs": [],
   "source": [
    "browser.close()"
   ]
  },
  {
   "cell_type": "code",
   "execution_count": 39,
   "metadata": {},
   "outputs": [],
   "source": [
    "company_name += company_name7\n",
    "company_number += company_number7\n",
    "company_industry += company_industry7\n",
    "company_market += company_market7\n",
    "time.sleep(10)"
   ]
  },
  {
   "attachments": {},
   "cell_type": "markdown",
   "metadata": {},
   "source": [
    "#### 医薬品"
   ]
  },
  {
   "cell_type": "code",
   "execution_count": 40,
   "metadata": {},
   "outputs": [],
   "source": [
    "CHROME_DRIVER = \"C:/Users/ichir/Documents/seminar/chrome_driver/chromedriver.exe\"\n",
    "chrome_service = service.Service(executable_path = CHROME_DRIVER)\n",
    "browser = webdriver.Chrome(service=chrome_service)\n",
    "time.sleep(2)"
   ]
  },
  {
   "cell_type": "code",
   "execution_count": 41,
   "metadata": {},
   "outputs": [],
   "source": [
    "page_sub_url = f\"https://minkabu.jp/stock/stocksitemap/8\"\n",
    "company_name8 = []\n",
    "company_number8 = []\n",
    "company_industry8 = []\n",
    "company_market8 = []\n",
    "for i in range(1, 6):\n",
    "    if i != 1:\n",
    "        page_url = page_sub_url + f\"?page={i}\"\n",
    "    else:\n",
    "        page_url = page_sub_url\n",
    "    browser.get(page_url)\n",
    "    time.sleep(2)\n",
    "    companies_list = browser.find_elements(\"xpath\", \"//table[@class = 'md_table']/tbody/tr/td[@class = 'vamd']\")\n",
    "    for j in range(len(companies_list)):\n",
    "        j += 2\n",
    "        com_path = f\"//table[@class = 'md_table']/tbody/tr[{j}]/td/div[2]/a\"\n",
    "        browser.find_element(\"xpath\", com_path).click()\n",
    "        time.sleep(1)\n",
    "        com_name = browser.find_element(\"xpath\", \"//div[@id = 'contents']/div[@class = 'mb10']/div[@class = 'md_title']/h2[@class = 'title_box']\")\n",
    "        com_number_and_market = browser.find_element(\"xpath\", \"//div[@class = 'stock_label']\")\n",
    "        com_ind = browser.find_element(\"xpath\", \"//a[@href = '/stock/stocksitemap/8']\")\n",
    "        time.sleep(5)\n",
    "        company_name8.append(com_name.text[:-8])\n",
    "        company_number8.append(com_number_and_market.text[:4])\n",
    "        company_industry8.append(com_ind.text)\n",
    "        company_market8.append(com_number_and_market.text[6:])\n",
    "        time.sleep(2)\n",
    "        browser.back()\n",
    "        time.sleep(1)"
   ]
  },
  {
   "cell_type": "code",
   "execution_count": 42,
   "metadata": {},
   "outputs": [],
   "source": [
    "browser.close()"
   ]
  },
  {
   "cell_type": "code",
   "execution_count": 43,
   "metadata": {},
   "outputs": [],
   "source": [
    "company_name += company_name8\n",
    "company_number += company_number8\n",
    "company_industry += company_industry8\n",
    "company_market += company_market8\n",
    "time.sleep(10)"
   ]
  },
  {
   "attachments": {},
   "cell_type": "markdown",
   "metadata": {},
   "source": [
    "#### 石油・石炭製品"
   ]
  },
  {
   "cell_type": "code",
   "execution_count": 44,
   "metadata": {},
   "outputs": [],
   "source": [
    "CHROME_DRIVER = \"C:/Users/ichir/Documents/seminar/chrome_driver/chromedriver.exe\"\n",
    "chrome_service = service.Service(executable_path = CHROME_DRIVER)\n",
    "browser = webdriver.Chrome(service=chrome_service)\n",
    "time.sleep(2)"
   ]
  },
  {
   "cell_type": "code",
   "execution_count": 45,
   "metadata": {},
   "outputs": [],
   "source": [
    "page_url = f\"https://minkabu.jp/stock/stocksitemap/9\"\n",
    "company_name9 = []\n",
    "company_number9 = []\n",
    "company_industry9 = []\n",
    "company_market9 = []\n",
    "browser.get(page_url)\n",
    "time.sleep(2)\n",
    "companies_list = browser.find_elements(\"xpath\", \"//table[@class = 'md_table']/tbody/tr/td[@class = 'vamd']\")\n",
    "for j in range(len(companies_list)):\n",
    "    j += 2\n",
    "    com_path = f\"//table[@class = 'md_table']/tbody/tr[{j}]/td/div[2]/a\"\n",
    "    browser.find_element(\"xpath\", com_path).click()\n",
    "    time.sleep(1)\n",
    "    com_name = browser.find_element(\"xpath\", \"//div[@id = 'contents']/div[@class = 'mb10']/div[@class = 'md_title']/h2[@class = 'title_box']\")\n",
    "    com_number_and_market = browser.find_element(\"xpath\", \"//div[@class = 'stock_label']\")\n",
    "    com_ind = browser.find_element(\"xpath\", \"//a[@href = '/stock/stocksitemap/9']\")\n",
    "    time.sleep(5)\n",
    "    company_name9.append(com_name.text[:-8])\n",
    "    company_number9.append(com_number_and_market.text[:4])\n",
    "    company_industry9.append(com_ind.text)\n",
    "    company_market9.append(com_number_and_market.text[6:])\n",
    "    time.sleep(2)\n",
    "    browser.back()\n",
    "    time.sleep(1)"
   ]
  },
  {
   "cell_type": "code",
   "execution_count": 46,
   "metadata": {},
   "outputs": [],
   "source": [
    "browser.close()"
   ]
  },
  {
   "cell_type": "code",
   "execution_count": 47,
   "metadata": {},
   "outputs": [],
   "source": [
    "company_name += company_name9\n",
    "company_number += company_number9\n",
    "company_industry += company_industry9\n",
    "company_market += company_market9\n",
    "time.sleep(10)"
   ]
  },
  {
   "attachments": {},
   "cell_type": "markdown",
   "metadata": {},
   "source": [
    "#### ゴム製品"
   ]
  },
  {
   "cell_type": "code",
   "execution_count": 48,
   "metadata": {},
   "outputs": [],
   "source": [
    "CHROME_DRIVER = \"C:/Users/ichir/Documents/seminar/chrome_driver/chromedriver.exe\"\n",
    "chrome_service = service.Service(executable_path = CHROME_DRIVER)\n",
    "browser = webdriver.Chrome(service=chrome_service)\n",
    "time.sleep(2)"
   ]
  },
  {
   "cell_type": "code",
   "execution_count": 49,
   "metadata": {},
   "outputs": [],
   "source": [
    "page_url = f\"https://minkabu.jp/stock/stocksitemap/10\"\n",
    "company_name10 = []\n",
    "company_number10 = []\n",
    "company_industry10 = []\n",
    "company_market10 = []\n",
    "browser.get(page_url)\n",
    "time.sleep(2)\n",
    "companies_list = browser.find_elements(\"xpath\", \"//table[@class = 'md_table']/tbody/tr/td[@class = 'vamd']\")\n",
    "for j in range(len(companies_list)):\n",
    "    j += 2\n",
    "    com_path = f\"//table[@class = 'md_table']/tbody/tr[{j}]/td/div[2]/a\"\n",
    "    browser.find_element(\"xpath\", com_path).click()\n",
    "    time.sleep(1)\n",
    "    com_name = browser.find_element(\"xpath\", \"//div[@id = 'contents']/div[@class = 'mb10']/div[@class = 'md_title']/h2[@class = 'title_box']\")\n",
    "    com_number_and_market = browser.find_element(\"xpath\", \"//div[@class = 'stock_label']\")\n",
    "    com_ind = browser.find_element(\"xpath\", \"//a[@href = '/stock/stocksitemap/10']\")\n",
    "    time.sleep(5)\n",
    "    company_name10.append(com_name.text[:-8])\n",
    "    company_number10.append(com_number_and_market.text[:4])\n",
    "    company_industry10.append(com_ind.text)\n",
    "    company_market10.append(com_number_and_market.text[6:])\n",
    "    time.sleep(2)\n",
    "    browser.back()\n",
    "    time.sleep(1)"
   ]
  },
  {
   "cell_type": "code",
   "execution_count": 50,
   "metadata": {},
   "outputs": [],
   "source": [
    "browser.close()"
   ]
  },
  {
   "cell_type": "code",
   "execution_count": 51,
   "metadata": {},
   "outputs": [],
   "source": [
    "company_name += company_name10\n",
    "company_number += company_number10\n",
    "company_industry += company_industry10\n",
    "company_market += company_market10\n",
    "time.sleep(10)"
   ]
  },
  {
   "attachments": {},
   "cell_type": "markdown",
   "metadata": {},
   "source": [
    "#### ガラス・土石製品"
   ]
  },
  {
   "cell_type": "code",
   "execution_count": 52,
   "metadata": {},
   "outputs": [],
   "source": [
    "CHROME_DRIVER = \"C:/Users/ichir/Documents/seminar/chrome_driver/chromedriver.exe\"\n",
    "chrome_service = service.Service(executable_path = CHROME_DRIVER)\n",
    "browser = webdriver.Chrome(service=chrome_service)\n",
    "time.sleep(2)"
   ]
  },
  {
   "cell_type": "code",
   "execution_count": 53,
   "metadata": {},
   "outputs": [],
   "source": [
    "page_sub_url = f\"https://minkabu.jp/stock/stocksitemap/11\"\n",
    "company_name11 = []\n",
    "company_number11 = []\n",
    "company_industry11 = []\n",
    "company_market11 = []\n",
    "for i in range(1, 5):\n",
    "    if i != 1:\n",
    "        page_url = page_sub_url + f\"?page={i}\"\n",
    "    else:\n",
    "        page_url = page_sub_url\n",
    "    browser.get(page_url)\n",
    "    time.sleep(2)\n",
    "    companies_list = browser.find_elements(\"xpath\", \"//table[@class = 'md_table']/tbody/tr/td[@class = 'vamd']\")\n",
    "    for j in range(len(companies_list)):\n",
    "        j += 2\n",
    "        com_path = f\"//table[@class = 'md_table']/tbody/tr[{j}]/td/div[2]/a\"\n",
    "        browser.find_element(\"xpath\", com_path).click()\n",
    "        time.sleep(1)\n",
    "        com_name = browser.find_element(\"xpath\", \"//div[@id = 'contents']/div[@class = 'mb10']/div[@class = 'md_title']/h2[@class = 'title_box']\")\n",
    "        com_number_and_market = browser.find_element(\"xpath\", \"//div[@class = 'stock_label']\")\n",
    "        com_ind = browser.find_element(\"xpath\", \"//a[@href = '/stock/stocksitemap/11']\")\n",
    "        time.sleep(5)\n",
    "        company_name11.append(com_name.text[:-8])\n",
    "        company_number11.append(com_number_and_market.text[:4])\n",
    "        company_industry11.append(com_ind.text)\n",
    "        company_market11.append(com_number_and_market.text[6:])\n",
    "        time.sleep(2)\n",
    "        browser.back()\n",
    "        time.sleep(1)"
   ]
  },
  {
   "cell_type": "code",
   "execution_count": 54,
   "metadata": {},
   "outputs": [],
   "source": [
    "browser.close()"
   ]
  },
  {
   "cell_type": "code",
   "execution_count": 55,
   "metadata": {},
   "outputs": [],
   "source": [
    "company_name += company_name11\n",
    "company_number += company_number11\n",
    "company_industry += company_industry11\n",
    "company_market += company_market11\n",
    "time.sleep(10)"
   ]
  },
  {
   "attachments": {},
   "cell_type": "markdown",
   "metadata": {},
   "source": [
    "#### 鉄鋼"
   ]
  },
  {
   "cell_type": "code",
   "execution_count": 56,
   "metadata": {},
   "outputs": [],
   "source": [
    "CHROME_DRIVER = \"C:/Users/ichir/Documents/seminar/chrome_driver/chromedriver.exe\"\n",
    "chrome_service = service.Service(executable_path = CHROME_DRIVER)\n",
    "browser = webdriver.Chrome(service=chrome_service)\n",
    "time.sleep(2)"
   ]
  },
  {
   "cell_type": "code",
   "execution_count": 57,
   "metadata": {},
   "outputs": [],
   "source": [
    "page_sub_url = f\"https://minkabu.jp/stock/stocksitemap/12\"\n",
    "company_name12 = []\n",
    "company_number12 = []\n",
    "company_industry12 = []\n",
    "company_market12 = []\n",
    "for i in range(1, 5):\n",
    "    if i != 1:\n",
    "        page_url = page_sub_url + f\"?page={i}\"\n",
    "    else:\n",
    "        page_url = page_sub_url\n",
    "    browser.get(page_url)\n",
    "    time.sleep(2)\n",
    "    companies_list = browser.find_elements(\"xpath\", \"//table[@class = 'md_table']/tbody/tr/td[@class = 'vamd']\")\n",
    "    for j in range(len(companies_list)):\n",
    "        j += 2\n",
    "        com_path = f\"//table[@class = 'md_table']/tbody/tr[{j}]/td/div[2]/a\"\n",
    "        browser.find_element(\"xpath\", com_path).click()\n",
    "        time.sleep(1)\n",
    "        com_name = browser.find_element(\"xpath\", \"//div[@id = 'contents']/div[@class = 'mb10']/div[@class = 'md_title']/h2[@class = 'title_box']\")\n",
    "        com_number_and_market = browser.find_element(\"xpath\", \"//div[@class = 'stock_label']\")\n",
    "        com_ind = browser.find_element(\"xpath\", \"//a[@href = '/stock/stocksitemap/12']\")\n",
    "        time.sleep(5)\n",
    "        company_name12.append(com_name.text[:-8])\n",
    "        company_number12.append(com_number_and_market.text[:4])\n",
    "        company_industry12.append(com_ind.text)\n",
    "        company_market12.append(com_number_and_market.text[6:])\n",
    "        time.sleep(2)\n",
    "        browser.back()\n",
    "        time.sleep(1)"
   ]
  },
  {
   "cell_type": "code",
   "execution_count": 58,
   "metadata": {},
   "outputs": [],
   "source": [
    "browser.close()"
   ]
  },
  {
   "cell_type": "code",
   "execution_count": 59,
   "metadata": {},
   "outputs": [],
   "source": [
    "company_name += company_name12\n",
    "company_number += company_number12\n",
    "company_industry += company_industry12\n",
    "company_market += company_market12\n",
    "time.sleep(10)"
   ]
  },
  {
   "attachments": {},
   "cell_type": "markdown",
   "metadata": {},
   "source": [
    "#### 非鉄金属"
   ]
  },
  {
   "cell_type": "code",
   "execution_count": 60,
   "metadata": {},
   "outputs": [],
   "source": [
    "CHROME_DRIVER = \"C:/Users/ichir/Documents/seminar/chrome_driver/chromedriver.exe\"\n",
    "chrome_service = service.Service(executable_path = CHROME_DRIVER)\n",
    "browser = webdriver.Chrome(service=chrome_service)\n",
    "time.sleep(2)"
   ]
  },
  {
   "cell_type": "code",
   "execution_count": 61,
   "metadata": {},
   "outputs": [],
   "source": [
    "page_sub_url = f\"https://minkabu.jp/stock/stocksitemap/13\"\n",
    "company_name13 = []\n",
    "company_number13 = []\n",
    "company_industry13 = []\n",
    "company_market13 = []\n",
    "for i in range(1, 4):\n",
    "    if i != 1:\n",
    "        page_url = page_sub_url + f\"?page={i}\"\n",
    "    else:\n",
    "        page_url = page_sub_url\n",
    "    browser.get(page_url)\n",
    "    time.sleep(2)\n",
    "    companies_list = browser.find_elements(\"xpath\", \"//table[@class = 'md_table']/tbody/tr/td[@class = 'vamd']\")\n",
    "    for j in range(len(companies_list)):\n",
    "        j += 2\n",
    "        com_path = f\"//table[@class = 'md_table']/tbody/tr[{j}]/td/div[2]/a\"\n",
    "        browser.find_element(\"xpath\", com_path).click()\n",
    "        time.sleep(1)\n",
    "        com_name = browser.find_element(\"xpath\", \"//div[@id = 'contents']/div[@class = 'mb10']/div[@class = 'md_title']/h2[@class = 'title_box']\")\n",
    "        com_number_and_market = browser.find_element(\"xpath\", \"//div[@class = 'stock_label']\")\n",
    "        com_ind = browser.find_element(\"xpath\", \"//a[@href = '/stock/stocksitemap/13']\")\n",
    "        time.sleep(5)\n",
    "        company_name13.append(com_name.text[:-8])\n",
    "        company_number13.append(com_number_and_market.text[:4])\n",
    "        company_industry13.append(com_ind.text)\n",
    "        company_market13.append(com_number_and_market.text[6:])\n",
    "        time.sleep(2)\n",
    "        browser.back()\n",
    "        time.sleep(1)"
   ]
  },
  {
   "cell_type": "code",
   "execution_count": 62,
   "metadata": {},
   "outputs": [],
   "source": [
    "browser.close()"
   ]
  },
  {
   "cell_type": "code",
   "execution_count": 63,
   "metadata": {},
   "outputs": [],
   "source": [
    "company_name += company_name13\n",
    "company_number += company_number13\n",
    "company_industry += company_industry13\n",
    "company_market += company_market13\n",
    "time.sleep(10)"
   ]
  },
  {
   "attachments": {},
   "cell_type": "markdown",
   "metadata": {},
   "source": [
    "#### 金属製品"
   ]
  },
  {
   "cell_type": "code",
   "execution_count": 64,
   "metadata": {},
   "outputs": [],
   "source": [
    "CHROME_DRIVER = \"C:/Users/ichir/Documents/seminar/chrome_driver/chromedriver.exe\"\n",
    "chrome_service = service.Service(executable_path = CHROME_DRIVER)\n",
    "browser = webdriver.Chrome(service=chrome_service)\n",
    "time.sleep(2)"
   ]
  },
  {
   "cell_type": "code",
   "execution_count": 65,
   "metadata": {},
   "outputs": [],
   "source": [
    "page_sub_url = f\"https://minkabu.jp/stock/stocksitemap/14\"\n",
    "company_name14 = []\n",
    "company_number14 = []\n",
    "company_industry14 = []\n",
    "company_market14 = []\n",
    "for i in range(1, 7):\n",
    "    if i != 1:\n",
    "        page_url = page_sub_url + f\"?page={i}\"\n",
    "    else:\n",
    "        page_url = page_sub_url\n",
    "    browser.get(page_url)\n",
    "    time.sleep(2)\n",
    "    companies_list = browser.find_elements(\"xpath\", \"//table[@class = 'md_table']/tbody/tr/td[@class = 'vamd']\")\n",
    "    for j in range(len(companies_list)):\n",
    "        j += 2\n",
    "        com_path = f\"//table[@class = 'md_table']/tbody/tr[{j}]/td/div[2]/a\"\n",
    "        browser.find_element(\"xpath\", com_path).click()\n",
    "        time.sleep(1)\n",
    "        com_name = browser.find_element(\"xpath\", \"//div[@id = 'contents']/div[@class = 'mb10']/div[@class = 'md_title']/h2[@class = 'title_box']\")\n",
    "        com_number_and_market = browser.find_element(\"xpath\", \"//div[@class = 'stock_label']\")\n",
    "        com_ind = browser.find_element(\"xpath\", \"//a[@href = '/stock/stocksitemap/14']\")\n",
    "        time.sleep(5)\n",
    "        company_name14.append(com_name.text[:-8])\n",
    "        company_number14.append(com_number_and_market.text[:4])\n",
    "        company_industry14.append(com_ind.text)\n",
    "        company_market14.append(com_number_and_market.text[6:])\n",
    "        time.sleep(2)\n",
    "        browser.back()\n",
    "        time.sleep(1)"
   ]
  },
  {
   "cell_type": "code",
   "execution_count": 66,
   "metadata": {},
   "outputs": [],
   "source": [
    "browser.close()"
   ]
  },
  {
   "cell_type": "code",
   "execution_count": 67,
   "metadata": {},
   "outputs": [],
   "source": [
    "company_name += company_name14\n",
    "company_number += company_number14\n",
    "company_industry += company_industry14\n",
    "company_market += company_market14\n",
    "time.sleep(10)"
   ]
  },
  {
   "attachments": {},
   "cell_type": "markdown",
   "metadata": {},
   "source": [
    "#### 機械"
   ]
  },
  {
   "cell_type": "code",
   "execution_count": 4,
   "metadata": {},
   "outputs": [],
   "source": [
    "CHROME_DRIVER = \"C:/Users/ichir/Documents/seminar/chrome_driver/chromedriver.exe\"\n",
    "chrome_service = service.Service(executable_path = CHROME_DRIVER)\n",
    "browser = webdriver.Chrome(service=chrome_service)\n",
    "time.sleep(2)"
   ]
  },
  {
   "cell_type": "code",
   "execution_count": 5,
   "metadata": {},
   "outputs": [],
   "source": [
    "page_sub_url = f\"https://minkabu.jp/stock/stocksitemap/15\"\n",
    "company_name15 = ['アピックヤマダ']\n",
    "company_number15 = ['6300']\n",
    "company_industry15 = ['機械']\n",
    "company_market15 = ['東証2部']\n",
    "for i in range(1, 16):\n",
    "    if i != 1:\n",
    "        page_url = page_sub_url + f\"?page={i}\"\n",
    "    else:\n",
    "        page_url = page_sub_url\n",
    "    browser.get(page_url)\n",
    "    time.sleep(1)\n",
    "    companies_list = browser.find_elements(\"xpath\", \"//table[@class = 'md_table']/tbody/tr/td[@class = 'vamd']\")\n",
    "    for j in range(len(companies_list)):\n",
    "        j += 2\n",
    "        if (i == 7) & (j == 2):\n",
    "            time.sleep(2)\n",
    "        else:\n",
    "            com_path = f\"//table[@class = 'md_table']/tbody/tr[{j}]/td/div[2]/a\"\n",
    "            browser.find_element(\"xpath\", com_path).click()\n",
    "            time.sleep(1)\n",
    "            com_name = browser.find_element(\"xpath\", \"//div[@class = 'md_stockBoard_header md_box']/div[@class = 'ly_row']/div/div[@class = 'ly_col ly_colsize_7']/h1/a/p[@class = 'md_stockBoard_stockName']\")\n",
    "            com_number_and_market = browser.find_element(\"xpath\", \"//div[@class = 'stock_label']\")\n",
    "            com_ind = browser.find_element(\"xpath\", \"//a[@href = '/stock/stocksitemap/15']\")\n",
    "            time.sleep(2)\n",
    "            company_name15.append(com_name.text)\n",
    "            company_number15.append(com_number_and_market.text[:4])\n",
    "            company_industry15.append(com_ind.text)\n",
    "            company_market15.append(com_number_and_market.text[6:])\n",
    "            time.sleep(1)\n",
    "            browser.back()\n",
    "            time.sleep(1)"
   ]
  },
  {
   "cell_type": "code",
   "execution_count": 6,
   "metadata": {},
   "outputs": [],
   "source": [
    "browser.close()"
   ]
  },
  {
   "cell_type": "code",
   "execution_count": 7,
   "metadata": {},
   "outputs": [],
   "source": [
    "company_name += company_name15\n",
    "company_number += company_number15\n",
    "company_industry += company_industry15\n",
    "company_market += company_market15\n",
    "time.sleep(10)"
   ]
  },
  {
   "attachments": {},
   "cell_type": "markdown",
   "metadata": {},
   "source": [
    "#### 電気機器"
   ]
  },
  {
   "cell_type": "code",
   "execution_count": null,
   "metadata": {},
   "outputs": [],
   "source": [
    "CHROME_DRIVER = \"C:/Users/ichir/Documents/seminar/chrome_driver/chromedriver.exe\"\n",
    "chrome_service = service.Service(executable_path = CHROME_DRIVER)\n",
    "browser = webdriver.Chrome(service=chrome_service)\n",
    "time.sleep(2)"
   ]
  },
  {
   "cell_type": "code",
   "execution_count": null,
   "metadata": {},
   "outputs": [],
   "source": [
    "page_sub_url = f\"https://minkabu.jp/stock/stocksitemap/16\"\n",
    "company_name16 = []\n",
    "company_number16 = []\n",
    "company_industry16 = []\n",
    "company_market16 = []\n",
    "for i in range(1, 19):\n",
    "    if i != 1:\n",
    "        page_url = page_sub_url + f\"?page={i}\"\n",
    "    else:\n",
    "        page_url = page_sub_url\n",
    "    browser.get(page_url)\n",
    "    time.sleep(1)\n",
    "    companies_list = browser.find_elements(\"xpath\", \"//table[@class = 'md_table']/tbody/tr/td[@class = 'vamd']\")\n",
    "    for j in range(len(companies_list)):\n",
    "        j += 2\n",
    "        com_path = f\"//table[@class = 'md_table']/tbody/tr[{j}]/td/div[2]/a\"\n",
    "        browser.find_element(\"xpath\", com_path).click()\n",
    "        time.sleep(1)\n",
    "        com_name = browser.find_element(\"xpath\", \"//div[@class = 'md_stockBoard_header md_box']/div[@class = 'ly_row']/div/div[@class = 'ly_col ly_colsize_7']/h1/a/p[@class = 'md_stockBoard_stockName']\")\n",
    "        com_number_and_market = browser.find_element(\"xpath\", \"//div[@class = 'stock_label']\")\n",
    "        com_ind = browser.find_element(\"xpath\", \"//a[@href = '/stock/stocksitemap/16']\")\n",
    "        time.sleep(2)\n",
    "        company_name16.append(com_name.text)\n",
    "        company_number16.append(com_number_and_market.text[:4])\n",
    "        company_industry16.append(com_ind.text)\n",
    "        company_market16.append(com_number_and_market.text[6:])\n",
    "        time.sleep(1)\n",
    "        browser.back()\n",
    "        time.sleep(1)"
   ]
  },
  {
   "cell_type": "code",
   "execution_count": null,
   "metadata": {},
   "outputs": [],
   "source": [
    "browser.close()"
   ]
  },
  {
   "cell_type": "code",
   "execution_count": null,
   "metadata": {},
   "outputs": [],
   "source": [
    "company_name += company_name16\n",
    "company_number += company_number16\n",
    "company_industry += company_industry16\n",
    "company_market += company_market16\n",
    "time.sleep(10)"
   ]
  },
  {
   "attachments": {},
   "cell_type": "markdown",
   "metadata": {},
   "source": [
    "#### 輸送用機器"
   ]
  },
  {
   "cell_type": "code",
   "execution_count": null,
   "metadata": {},
   "outputs": [],
   "source": [
    "CHROME_DRIVER = \"C:/Users/ichir/Documents/seminar/chrome_driver/chromedriver.exe\"\n",
    "chrome_service = service.Service(executable_path = CHROME_DRIVER)\n",
    "browser = webdriver.Chrome(service=chrome_service)\n",
    "time.sleep(2)"
   ]
  },
  {
   "cell_type": "code",
   "execution_count": null,
   "metadata": {},
   "outputs": [],
   "source": [
    "page_sub_url = f\"https://minkabu.jp/stock/stocksitemap/17\"\n",
    "company_name17 = []\n",
    "company_number17 = []\n",
    "company_industry17 = []\n",
    "company_market17 = []\n",
    "for i in range(1, 7):\n",
    "    if i != 1:\n",
    "        page_url = page_sub_url + f\"?page={i}\"\n",
    "    else:\n",
    "        page_url = page_sub_url\n",
    "    browser.get(page_url)\n",
    "    time.sleep(1)\n",
    "    companies_list = browser.find_elements(\"xpath\", \"//table[@class = 'md_table']/tbody/tr/td[@class = 'vamd']\")\n",
    "    for j in range(len(companies_list)):\n",
    "        j += 2\n",
    "        com_path = f\"//table[@class = 'md_table']/tbody/tr[{j}]/td/div[2]/a\"\n",
    "        browser.find_element(\"xpath\", com_path).click()\n",
    "        time.sleep(1)\n",
    "        com_name = browser.find_element(\"xpath\", \"//div[@class = 'md_stockBoard_header md_box']/div[@class = 'ly_row']/div/div[@class = 'ly_col ly_colsize_7']/h1/a/p[@class = 'md_stockBoard_stockName']\")\n",
    "        com_number_and_market = browser.find_element(\"xpath\", \"//div[@class = 'stock_label']\")\n",
    "        com_ind = browser.find_element(\"xpath\", \"//a[@href = '/stock/stocksitemap/17']\")\n",
    "        time.sleep(2)\n",
    "        company_name17.append(com_name.text)\n",
    "        company_number17.append(com_number_and_market.text[:4])\n",
    "        company_industry17.append(com_ind.text)\n",
    "        company_market17.append(com_number_and_market.text[6:])\n",
    "        time.sleep(1)\n",
    "        browser.back()\n",
    "        time.sleep(1)"
   ]
  },
  {
   "cell_type": "code",
   "execution_count": null,
   "metadata": {},
   "outputs": [],
   "source": [
    "browser.close()"
   ]
  },
  {
   "cell_type": "code",
   "execution_count": null,
   "metadata": {},
   "outputs": [],
   "source": [
    "company_name += company_name17\n",
    "company_number += company_number17\n",
    "company_industry += company_industry17\n",
    "company_market += company_market17\n",
    "time.sleep(10)"
   ]
  },
  {
   "attachments": {},
   "cell_type": "markdown",
   "metadata": {},
   "source": [
    "#### 精密機器"
   ]
  },
  {
   "cell_type": "code",
   "execution_count": null,
   "metadata": {},
   "outputs": [],
   "source": [
    "CHROME_DRIVER = \"C:/Users/ichir/Documents/seminar/chrome_driver/chromedriver.exe\"\n",
    "chrome_service = service.Service(executable_path = CHROME_DRIVER)\n",
    "browser = webdriver.Chrome(service=chrome_service)\n",
    "time.sleep(2)"
   ]
  },
  {
   "cell_type": "code",
   "execution_count": null,
   "metadata": {},
   "outputs": [],
   "source": [
    "page_sub_url = f\"https://minkabu.jp/stock/stocksitemap/18\"\n",
    "company_name18 = []\n",
    "company_number18 = []\n",
    "company_industry18 = []\n",
    "company_market18 = []\n",
    "for i in range(1, 5):\n",
    "    if i != 1:\n",
    "        page_url = page_sub_url + f\"?page={i}\"\n",
    "    else:\n",
    "        page_url = page_sub_url\n",
    "    browser.get(page_url)\n",
    "    time.sleep(1)\n",
    "    companies_list = browser.find_elements(\"xpath\", \"//table[@class = 'md_table']/tbody/tr/td[@class = 'vamd']\")\n",
    "    for j in range(len(companies_list)):\n",
    "        j += 2\n",
    "        if (i == 3) & (j == 18):\n",
    "            time.sleep(2)\n",
    "        else:\n",
    "            com_path = f\"//table[@class = 'md_table']/tbody/tr[{j}]/td/div[2]/a\"\n",
    "            browser.find_element(\"xpath\", com_path).click()\n",
    "            time.sleep(1)\n",
    "            com_name = browser.find_element(\"xpath\", \"//div[@class = 'md_stockBoard_header md_box']/div[@class = 'ly_row']/div/div[@class = 'ly_col ly_colsize_7']/h1/a/p[@class = 'md_stockBoard_stockName']\")\n",
    "            com_number_and_market = browser.find_element(\"xpath\", \"//div[@class = 'stock_label']\")\n",
    "            com_ind = browser.find_element(\"xpath\", \"//a[@href = '/stock/stocksitemap/18']\")\n",
    "            time.sleep(2)\n",
    "            company_name18.append(com_name.text)\n",
    "            company_number18.append(com_number_and_market.text[:4])\n",
    "            company_industry18.append(com_ind.text)\n",
    "            company_market18.append(com_number_and_market.text[6:])\n",
    "            time.sleep(1)\n",
    "            browser.back()\n",
    "            time.sleep(1)"
   ]
  },
  {
   "cell_type": "code",
   "execution_count": null,
   "metadata": {},
   "outputs": [],
   "source": [
    "browser.close()"
   ]
  },
  {
   "cell_type": "code",
   "execution_count": null,
   "metadata": {},
   "outputs": [],
   "source": [
    "company_name += company_name18\n",
    "company_number += company_number18\n",
    "company_industry += company_industry18\n",
    "company_market += company_market18\n",
    "time.sleep(10)"
   ]
  },
  {
   "attachments": {},
   "cell_type": "markdown",
   "metadata": {},
   "source": [
    "#### その他製品"
   ]
  },
  {
   "cell_type": "code",
   "execution_count": null,
   "metadata": {},
   "outputs": [],
   "source": [
    "CHROME_DRIVER = \"C:/Users/ichir/Documents/seminar/chrome_driver/chromedriver.exe\"\n",
    "chrome_service = service.Service(executable_path = CHROME_DRIVER)\n",
    "browser = webdriver.Chrome(service=chrome_service)\n",
    "time.sleep(2)"
   ]
  },
  {
   "cell_type": "code",
   "execution_count": null,
   "metadata": {},
   "outputs": [],
   "source": [
    "page_sub_url = f\"https://minkabu.jp/stock/stocksitemap/19\"\n",
    "company_name19 = []\n",
    "company_number19 = []\n",
    "company_industry19 = []\n",
    "company_market19 = []\n",
    "for i in range(1, 8):\n",
    "    if i != 1:\n",
    "        page_url = page_sub_url + f\"?page={i}\"\n",
    "    else:\n",
    "        page_url = page_sub_url\n",
    "    browser.get(page_url)\n",
    "    time.sleep(1)\n",
    "    companies_list = browser.find_elements(\"xpath\", \"//table[@class = 'md_table']/tbody/tr/td[@class = 'vamd']\")\n",
    "    for j in range(len(companies_list)):\n",
    "        j += 2\n",
    "        com_path = f\"//table[@class = 'md_table']/tbody/tr[{j}]/td/div[2]/a\"\n",
    "        browser.find_element(\"xpath\", com_path).click()\n",
    "        time.sleep(1)\n",
    "        com_name = browser.find_element(\"xpath\", \"//div[@class = 'md_stockBoard_header md_box']/div[@class = 'ly_row']/div/div[@class = 'ly_col ly_colsize_7']/h1/a/p[@class = 'md_stockBoard_stockName']\")\n",
    "        com_number_and_market = browser.find_element(\"xpath\", \"//div[@class = 'stock_label']\")\n",
    "        com_ind = browser.find_element(\"xpath\", \"//a[@href = '/stock/stocksitemap/19']\")\n",
    "        time.sleep(2)\n",
    "        company_name19.append(com_name.text)\n",
    "        company_number19.append(com_number_and_market.text[:4])\n",
    "        company_industry19.append(com_ind.text)\n",
    "        company_market19.append(com_number_and_market.text[6:])\n",
    "        time.sleep(1)\n",
    "        browser.back()\n",
    "        time.sleep(1)"
   ]
  },
  {
   "cell_type": "code",
   "execution_count": null,
   "metadata": {},
   "outputs": [],
   "source": [
    "browser.close()"
   ]
  },
  {
   "cell_type": "code",
   "execution_count": null,
   "metadata": {},
   "outputs": [],
   "source": [
    "company_name += company_name19\n",
    "company_number += company_number19\n",
    "company_industry += company_industry19\n",
    "company_market += company_market19\n",
    "time.sleep(10)"
   ]
  },
  {
   "attachments": {},
   "cell_type": "markdown",
   "metadata": {},
   "source": [
    "#### 電気・ガス業"
   ]
  },
  {
   "cell_type": "code",
   "execution_count": null,
   "metadata": {},
   "outputs": [],
   "source": [
    "CHROME_DRIVER = \"C:/Users/ichir/Documents/seminar/chrome_driver/chromedriver.exe\"\n",
    "chrome_service = service.Service(executable_path = CHROME_DRIVER)\n",
    "browser = webdriver.Chrome(service=chrome_service)\n",
    "time.sleep(2)"
   ]
  },
  {
   "cell_type": "code",
   "execution_count": null,
   "metadata": {},
   "outputs": [],
   "source": [
    "page_sub_url = f\"https://minkabu.jp/stock/stocksitemap/20\"\n",
    "company_name20 = []\n",
    "company_number20 = []\n",
    "company_industry20 = []\n",
    "company_market20 = []\n",
    "for i in range(1, 3):\n",
    "    if i != 1:\n",
    "        page_url = page_sub_url + f\"?page={i}\"\n",
    "    else:\n",
    "        page_url = page_sub_url\n",
    "    browser.get(page_url)\n",
    "    time.sleep(1)\n",
    "    companies_list = browser.find_elements(\"xpath\", \"//table[@class = 'md_table']/tbody/tr/td[@class = 'vamd']\")\n",
    "    for j in range(len(companies_list)):\n",
    "        j += 2\n",
    "        com_path = f\"//table[@class = 'md_table']/tbody/tr[{j}]/td/div[2]/a\"\n",
    "        browser.find_element(\"xpath\", com_path).click()\n",
    "        time.sleep(1)\n",
    "        com_name = browser.find_element(\"xpath\", \"//div[@class = 'md_stockBoard_header md_box']/div[@class = 'ly_row']/div/div[@class = 'ly_col ly_colsize_7']/h1/a/p[@class = 'md_stockBoard_stockName']\")\n",
    "        com_number_and_market = browser.find_element(\"xpath\", \"//div[@class = 'stock_label']\")\n",
    "        com_ind = browser.find_element(\"xpath\", \"//a[@href = '/stock/stocksitemap/20']\")\n",
    "        time.sleep(2)\n",
    "        company_name20.append(com_name.text)\n",
    "        company_number20.append(com_number_and_market.text[:4])\n",
    "        company_industry20.append(com_ind.text)\n",
    "        company_market20.append(com_number_and_market.text[6:])\n",
    "        time.sleep(1)\n",
    "        browser.back()\n",
    "        time.sleep(1)"
   ]
  },
  {
   "cell_type": "code",
   "execution_count": null,
   "metadata": {},
   "outputs": [],
   "source": [
    "browser.close()"
   ]
  },
  {
   "cell_type": "code",
   "execution_count": null,
   "metadata": {},
   "outputs": [],
   "source": [
    "company_name += company_name20\n",
    "company_number += company_number20\n",
    "company_industry += company_industry20\n",
    "company_market += company_market20\n",
    "time.sleep(10)"
   ]
  },
  {
   "attachments": {},
   "cell_type": "markdown",
   "metadata": {},
   "source": [
    "#### 陸運業"
   ]
  },
  {
   "cell_type": "code",
   "execution_count": null,
   "metadata": {},
   "outputs": [],
   "source": [
    "CHROME_DRIVER = \"C:/Users/ichir/Documents/seminar/chrome_driver/chromedriver.exe\"\n",
    "chrome_service = service.Service(executable_path = CHROME_DRIVER)\n",
    "browser = webdriver.Chrome(service=chrome_service)\n",
    "time.sleep(2)"
   ]
  },
  {
   "cell_type": "code",
   "execution_count": null,
   "metadata": {},
   "outputs": [],
   "source": [
    "page_sub_url = f\"https://minkabu.jp/stock/stocksitemap/21\"\n",
    "company_name21 = []\n",
    "company_number21 = []\n",
    "company_industry21 = []\n",
    "company_market21 = []\n",
    "for i in range(1, 5):\n",
    "    if i != 1:\n",
    "        page_url = page_sub_url + f\"?page={i}\"\n",
    "    else:\n",
    "        page_url = page_sub_url\n",
    "    browser.get(page_url)\n",
    "    time.sleep(1)\n",
    "    companies_list = browser.find_elements(\"xpath\", \"//table[@class = 'md_table']/tbody/tr/td[@class = 'vamd']\")\n",
    "    for j in range(len(companies_list)):\n",
    "        j += 2\n",
    "        com_path = f\"//table[@class = 'md_table']/tbody/tr[{j}]/td/div[2]/a\"\n",
    "        browser.find_element(\"xpath\", com_path).click()\n",
    "        time.sleep(1)\n",
    "        com_name = browser.find_element(\"xpath\", \"//div[@class = 'md_stockBoard_header md_box']/div[@class = 'ly_row']/div/div[@class = 'ly_col ly_colsize_7']/h1/a/p[@class = 'md_stockBoard_stockName']\")\n",
    "        com_number_and_market = browser.find_element(\"xpath\", \"//div[@class = 'stock_label']\")\n",
    "        com_ind = browser.find_element(\"xpath\", \"//a[@href = '/stock/stocksitemap/21']\")\n",
    "        time.sleep(2)\n",
    "        company_name21.append(com_name.text)\n",
    "        company_number21.append(com_number_and_market.text[:4])\n",
    "        company_industry21.append(com_ind.text)\n",
    "        company_market21.append(com_number_and_market.text[6:])\n",
    "        time.sleep(1)\n",
    "        browser.back()\n",
    "        time.sleep(1)"
   ]
  },
  {
   "cell_type": "code",
   "execution_count": null,
   "metadata": {},
   "outputs": [],
   "source": [
    "browser.close()"
   ]
  },
  {
   "cell_type": "code",
   "execution_count": null,
   "metadata": {},
   "outputs": [],
   "source": [
    "company_name += company_name21\n",
    "company_number += company_number21\n",
    "company_industry += company_industry21\n",
    "company_market += company_market21\n",
    "time.sleep(10)"
   ]
  },
  {
   "attachments": {},
   "cell_type": "markdown",
   "metadata": {},
   "source": [
    "#### 海運業"
   ]
  },
  {
   "cell_type": "code",
   "execution_count": null,
   "metadata": {},
   "outputs": [],
   "source": [
    "CHROME_DRIVER = \"C:/Users/ichir/Documents/seminar/chrome_driver/chromedriver.exe\"\n",
    "chrome_service = service.Service(executable_path = CHROME_DRIVER)\n",
    "browser = webdriver.Chrome(service=chrome_service)\n",
    "time.sleep(2)"
   ]
  },
  {
   "cell_type": "code",
   "execution_count": null,
   "metadata": {},
   "outputs": [],
   "source": [
    "page_url = f\"https://minkabu.jp/stock/stocksitemap/22\"\n",
    "company_name22 = []\n",
    "company_number22 = []\n",
    "company_industry22 = []\n",
    "company_market22 = []\n",
    "browser.get(page_url)\n",
    "time.sleep(1)\n",
    "companies_list = browser.find_elements(\"xpath\", \"//table[@class = 'md_table']/tbody/tr/td[@class = 'vamd']\")\n",
    "for j in range(len(companies_list)):\n",
    "    j += 2\n",
    "    com_path = f\"//table[@class = 'md_table']/tbody/tr[{j}]/td/div[2]/a\"\n",
    "    browser.find_element(\"xpath\", com_path).click()\n",
    "    time.sleep(1)\n",
    "    com_name = browser.find_element(\"xpath\", \"//div[@class = 'md_stockBoard_header md_box']/div[@class = 'ly_row']/div/div[@class = 'ly_col ly_colsize_7']/h1/a/p[@class = 'md_stockBoard_stockName']\")\n",
    "    com_number_and_market = browser.find_element(\"xpath\", \"//div[@class = 'stock_label']\")\n",
    "    com_ind = browser.find_element(\"xpath\", \"//a[@href = '/stock/stocksitemap/22']\")\n",
    "    time.sleep(2)\n",
    "    company_name22.append(com_name.text)\n",
    "    company_number22.append(com_number_and_market.text[:4])\n",
    "    company_industry22.append(com_ind.text)\n",
    "    company_market22.append(com_number_and_market.text[6:])\n",
    "    time.sleep(1)\n",
    "    browser.back()\n",
    "    time.sleep(1)"
   ]
  },
  {
   "cell_type": "code",
   "execution_count": null,
   "metadata": {},
   "outputs": [],
   "source": [
    "browser.close()"
   ]
  },
  {
   "cell_type": "code",
   "execution_count": null,
   "metadata": {},
   "outputs": [],
   "source": [
    "company_name += company_name22\n",
    "company_number += company_number22\n",
    "company_industry += company_industry22\n",
    "company_market += company_market22\n",
    "time.sleep(10)"
   ]
  },
  {
   "attachments": {},
   "cell_type": "markdown",
   "metadata": {},
   "source": [
    "#### 空運業"
   ]
  },
  {
   "cell_type": "code",
   "execution_count": null,
   "metadata": {},
   "outputs": [],
   "source": [
    "CHROME_DRIVER = \"C:/Users/ichir/Documents/seminar/chrome_driver/chromedriver.exe\"\n",
    "chrome_service = service.Service(executable_path = CHROME_DRIVER)\n",
    "browser = webdriver.Chrome(service=chrome_service)\n",
    "time.sleep(2)"
   ]
  },
  {
   "cell_type": "code",
   "execution_count": null,
   "metadata": {},
   "outputs": [],
   "source": [
    "page_url = f\"https://minkabu.jp/stock/stocksitemap/23\"\n",
    "company_name23 = []\n",
    "company_number23 = []\n",
    "company_industry23 = []\n",
    "company_market23 = []\n",
    "browser.get(page_url)\n",
    "time.sleep(1)\n",
    "companies_list = browser.find_elements(\"xpath\", \"//table[@class = 'md_table']/tbody/tr/td[@class = 'vamd']\")\n",
    "for j in range(len(companies_list)):\n",
    "    j += 2\n",
    "    com_path = f\"//table[@class = 'md_table']/tbody/tr[{j}]/td/div[2]/a\"\n",
    "    browser.find_element(\"xpath\", com_path).click()\n",
    "    time.sleep(1)\n",
    "    com_name = browser.find_element(\"xpath\", \"//div[@class = 'md_stockBoard_header md_box']/div[@class = 'ly_row']/div/div[@class = 'ly_col ly_colsize_7']/h1/a/p[@class = 'md_stockBoard_stockName']\")\n",
    "    com_number_and_market = browser.find_element(\"xpath\", \"//div[@class = 'stock_label']\")\n",
    "    com_ind = browser.find_element(\"xpath\", \"//a[@href = '/stock/stocksitemap/23']\")\n",
    "    time.sleep(2)\n",
    "    company_name23.append(com_name.text)\n",
    "    company_number23.append(com_number_and_market.text[:4])\n",
    "    company_industry23.append(com_ind.text)\n",
    "    company_market23.append(com_number_and_market.text[6:])\n",
    "    time.sleep(1)\n",
    "    browser.back()\n",
    "    time.sleep(1)"
   ]
  },
  {
   "cell_type": "code",
   "execution_count": null,
   "metadata": {},
   "outputs": [],
   "source": [
    "browser.close()"
   ]
  },
  {
   "cell_type": "code",
   "execution_count": null,
   "metadata": {},
   "outputs": [],
   "source": [
    "company_name += company_name23\n",
    "company_number += company_number23\n",
    "company_industry += company_industry23\n",
    "company_market += company_market23\n",
    "time.sleep(10)"
   ]
  },
  {
   "attachments": {},
   "cell_type": "markdown",
   "metadata": {},
   "source": [
    "#### 倉庫・運輸関連業"
   ]
  },
  {
   "cell_type": "code",
   "execution_count": null,
   "metadata": {},
   "outputs": [],
   "source": [
    "CHROME_DRIVER = \"C:/Users/ichir/Documents/seminar/chrome_driver/chromedriver.exe\"\n",
    "chrome_service = service.Service(executable_path = CHROME_DRIVER)\n",
    "browser = webdriver.Chrome(service=chrome_service)\n",
    "time.sleep(2)"
   ]
  },
  {
   "cell_type": "code",
   "execution_count": null,
   "metadata": {},
   "outputs": [],
   "source": [
    "page_sub_url = f\"https://minkabu.jp/stock/stocksitemap/24\"\n",
    "company_name24 = []\n",
    "company_number24 = []\n",
    "company_industry24 = []\n",
    "company_market24 = []\n",
    "for i in range(1, 4):\n",
    "    if i != 1:\n",
    "        page_url = page_sub_url + f\"?page={i}\"\n",
    "    else:\n",
    "        page_url = page_sub_url\n",
    "    browser.get(page_url)\n",
    "    time.sleep(1)\n",
    "    companies_list = browser.find_elements(\"xpath\", \"//table[@class = 'md_table']/tbody/tr/td[@class = 'vamd']\")\n",
    "    for j in range(len(companies_list)):\n",
    "        j += 2\n",
    "        com_path = f\"//table[@class = 'md_table']/tbody/tr[{j}]/td/div[2]/a\"\n",
    "        browser.find_element(\"xpath\", com_path).click()\n",
    "        time.sleep(1)\n",
    "        com_name = browser.find_element(\"xpath\", \"//div[@class = 'md_stockBoard_header md_box']/div[@class = 'ly_row']/div/div[@class = 'ly_col ly_colsize_7']/h1/a/p[@class = 'md_stockBoard_stockName']\")\n",
    "        com_number_and_market = browser.find_element(\"xpath\", \"//div[@class = 'stock_label']\")\n",
    "        com_ind = browser.find_element(\"xpath\", \"//a[@href = '/stock/stocksitemap/24']\")\n",
    "        time.sleep(2)\n",
    "        company_name24.append(com_name.text)\n",
    "        company_number24.append(com_number_and_market.text[:4])\n",
    "        company_industry24.append(com_ind.text)\n",
    "        company_market24.append(com_number_and_market.text[6:])\n",
    "        time.sleep(1)\n",
    "        browser.back()\n",
    "        time.sleep(1)"
   ]
  },
  {
   "cell_type": "code",
   "execution_count": null,
   "metadata": {},
   "outputs": [],
   "source": [
    "browser.close()"
   ]
  },
  {
   "cell_type": "code",
   "execution_count": null,
   "metadata": {},
   "outputs": [],
   "source": [
    "company_name += company_name24\n",
    "company_number += company_number24\n",
    "company_industry += company_industry24\n",
    "company_market += company_market24\n",
    "time.sleep(10)"
   ]
  },
  {
   "attachments": {},
   "cell_type": "markdown",
   "metadata": {},
   "source": [
    "#### 情報・通信業"
   ]
  },
  {
   "cell_type": "code",
   "execution_count": 6,
   "metadata": {},
   "outputs": [],
   "source": [
    "CHROME_DRIVER = \"C:/Users/ichir/Documents/seminar/chrome_driver/chromedriver.exe\"\n",
    "chrome_service = service.Service(executable_path = CHROME_DRIVER)\n",
    "browser = webdriver.Chrome(service=chrome_service)\n",
    "time.sleep(2)"
   ]
  },
  {
   "cell_type": "code",
   "execution_count": 7,
   "metadata": {},
   "outputs": [],
   "source": [
    "page_sub_url = f\"https://minkabu.jp/stock/stocksitemap/25\"\n",
    "company_name25 = []\n",
    "company_number25 = []\n",
    "company_industry25 = []\n",
    "company_market25 = []\n",
    "for i in range(1, 39):\n",
    "    if i != 1:\n",
    "        page_url = page_sub_url + f\"?page={i}\"\n",
    "    else:\n",
    "        page_url = page_sub_url\n",
    "    browser.get(page_url)\n",
    "    time.sleep(1)\n",
    "    companies_list = browser.find_elements(\"xpath\", \"//table[@class = 'md_table']/tbody/tr/td[@class = 'vamd']\")\n",
    "    for j in range(len(companies_list)):\n",
    "        j += 2\n",
    "        if (i == 2) & (j == 13):\n",
    "            time.sleep(2)\n",
    "        elif (i == 4) & (j == 9):\n",
    "            time.sleep(2)\n",
    "        elif (i == 6) & (j == 10):\n",
    "            time.sleep(2)\n",
    "        elif (i == 12) & (j == 7):\n",
    "            time.sleep(2)\n",
    "        elif (i == 31) & (j == 20):\n",
    "            time.sleep(2)\n",
    "        elif (i == 31) & (j == 21):\n",
    "            time.sleep(2)\n",
    "        elif (i == 32) & (j == 2):\n",
    "            time.sleep(2)\n",
    "        else:\n",
    "            com_path = f\"//table[@class = 'md_table']/tbody/tr[{j}]/td/div[2]/a\"\n",
    "            browser.find_element(\"xpath\", com_path).click()\n",
    "            time.sleep(1)\n",
    "            com_name = browser.find_element(\"xpath\", \"//div[@class = 'md_stockBoard_header md_box']/div[@class = 'ly_row']/div/div[@class = 'ly_col ly_colsize_7']/h1/a/p[@class = 'md_stockBoard_stockName']\")\n",
    "            com_number_and_market = browser.find_element(\"xpath\", \"//div[@class = 'stock_label']\")\n",
    "            com_ind = browser.find_element(\"xpath\", \"//a[@href = '/stock/stocksitemap/25']\")\n",
    "            time.sleep(2)\n",
    "            company_name25.append(com_name.text)\n",
    "            company_number25.append(com_number_and_market.text[:4])\n",
    "            company_industry25.append(com_ind.text)\n",
    "            company_market25.append(com_number_and_market.text[6:])\n",
    "            time.sleep(1)\n",
    "            browser.back()\n",
    "            time.sleep(1)"
   ]
  },
  {
   "cell_type": "code",
   "execution_count": 11,
   "metadata": {},
   "outputs": [],
   "source": [
    "browser.close()"
   ]
  },
  {
   "cell_type": "code",
   "execution_count": 12,
   "metadata": {},
   "outputs": [],
   "source": [
    "company_name += company_name25\n",
    "company_number += company_number25\n",
    "company_industry += company_industry25\n",
    "company_market += company_market25\n",
    "time.sleep(10)"
   ]
  },
  {
   "attachments": {},
   "cell_type": "markdown",
   "metadata": {},
   "source": [
    "#### 卸売業"
   ]
  },
  {
   "cell_type": "code",
   "execution_count": 84,
   "metadata": {},
   "outputs": [],
   "source": [
    "CHROME_DRIVER = \"C:/Users/ichir/Documents/seminar/chrome_driver/chromedriver.exe\"\n",
    "chrome_service = service.Service(executable_path = CHROME_DRIVER)\n",
    "browser = webdriver.Chrome(service=chrome_service)\n",
    "time.sleep(2)"
   ]
  },
  {
   "cell_type": "code",
   "execution_count": 85,
   "metadata": {},
   "outputs": [],
   "source": [
    "page_sub_url = f\"https://minkabu.jp/stock/stocksitemap/26\"\n",
    "company_name26 = []\n",
    "company_number26 = []\n",
    "company_industry26 = []\n",
    "company_market26 = []\n",
    "for i in range(1, 23):\n",
    "    if i != 1:\n",
    "        page_url = page_sub_url + f\"?page={i}\"\n",
    "    else:\n",
    "        page_url = page_sub_url\n",
    "    browser.get(page_url)\n",
    "    time.sleep(1)\n",
    "    companies_list = browser.find_elements(\"xpath\", \"//table[@class = 'md_table']/tbody/tr/td[@class = 'vamd']\")\n",
    "    for j in range(len(companies_list)):\n",
    "        j += 2\n",
    "        #if j != 13:\n",
    "        com_path = f\"//table[@class = 'md_table']/tbody/tr[{j}]/td/div[2]/a\"\n",
    "        browser.find_element(\"xpath\", com_path).click()\n",
    "        time.sleep(1)\n",
    "        com_name = browser.find_element(\"xpath\", \"//div[@class = 'md_stockBoard_header md_box']/div[@class = 'ly_row']/div/div[@class = 'ly_col ly_colsize_7']/h1/a/p[@class = 'md_stockBoard_stockName']\")\n",
    "        com_number_and_market = browser.find_element(\"xpath\", \"//div[@class = 'stock_label']\")\n",
    "        com_ind = browser.find_element(\"xpath\", \"//a[@href = '/stock/stocksitemap/26']\")\n",
    "        time.sleep(2)\n",
    "        company_name26.append(com_name.text)\n",
    "        company_number26.append(com_number_and_market.text[:4])\n",
    "        company_industry26.append(com_ind.text)\n",
    "        company_market26.append(com_number_and_market.text[6:])\n",
    "        time.sleep(1)\n",
    "        browser.back()\n",
    "        time.sleep(1)"
   ]
  },
  {
   "cell_type": "code",
   "execution_count": 86,
   "metadata": {},
   "outputs": [],
   "source": [
    "browser.close()"
   ]
  },
  {
   "cell_type": "code",
   "execution_count": 88,
   "metadata": {},
   "outputs": [],
   "source": [
    "company_name += company_name26\n",
    "company_number += company_number26\n",
    "company_industry += company_industry26\n",
    "company_market += company_market26\n",
    "time.sleep(10)"
   ]
  },
  {
   "attachments": {},
   "cell_type": "markdown",
   "metadata": {},
   "source": [
    "#### 小売業"
   ]
  },
  {
   "cell_type": "code",
   "execution_count": 4,
   "metadata": {},
   "outputs": [],
   "source": [
    "CHROME_DRIVER = \"C:/Users/ichir/Documents/seminar/chrome_driver/chromedriver.exe\"\n",
    "chrome_service = service.Service(executable_path = CHROME_DRIVER)\n",
    "browser = webdriver.Chrome(service=chrome_service)\n",
    "time.sleep(2)"
   ]
  },
  {
   "cell_type": "code",
   "execution_count": 5,
   "metadata": {},
   "outputs": [],
   "source": [
    "page_sub_url = f\"https://minkabu.jp/stock/stocksitemap/27\"\n",
    "company_name27 = []\n",
    "company_number27 = []\n",
    "company_industry27 = []\n",
    "company_market27 = []\n",
    "for i in range(1, 27):\n",
    "    if i != 1:\n",
    "        page_url = page_sub_url + f\"?page={i}\"\n",
    "    else:\n",
    "        page_url = page_sub_url\n",
    "    browser.get(page_url)\n",
    "    time.sleep(1)\n",
    "    companies_list = browser.find_elements(\"xpath\", \"//table[@class = 'md_table']/tbody/tr/td[@class = 'vamd']\")\n",
    "    for j in range(len(companies_list)):\n",
    "        j += 2\n",
    "        if (i == 5) & (j == 4):\n",
    "            time.sleep(1)\n",
    "        elif (i == 12) & (j == 19):\n",
    "            time.sleep(1)\n",
    "        else:\n",
    "            com_path = f\"//table[@class = 'md_table']/tbody/tr[{j}]/td/div[2]/a\"\n",
    "            browser.find_element(\"xpath\", com_path).click()\n",
    "            time.sleep(1)\n",
    "            com_name = browser.find_element(\"xpath\", \"//div[@class = 'md_stockBoard_header md_box']/div[@class = 'ly_row']/div/div[@class = 'ly_col ly_colsize_7']/h1/a/p[@class = 'md_stockBoard_stockName']\")\n",
    "            com_number_and_market = browser.find_element(\"xpath\", \"//div[@class = 'stock_label']\")\n",
    "            com_ind = browser.find_element(\"xpath\", \"//a[@href = '/stock/stocksitemap/27']\")\n",
    "            time.sleep(2)\n",
    "            company_name27.append(com_name.text)\n",
    "            company_number27.append(com_number_and_market.text[:4])\n",
    "            company_industry27.append(com_ind.text)\n",
    "            company_market27.append(com_number_and_market.text[6:])\n",
    "            time.sleep(1)\n",
    "            browser.back()\n",
    "            time.sleep(1)"
   ]
  },
  {
   "cell_type": "code",
   "execution_count": 6,
   "metadata": {},
   "outputs": [],
   "source": [
    "browser.close()"
   ]
  },
  {
   "cell_type": "code",
   "execution_count": 7,
   "metadata": {},
   "outputs": [],
   "source": [
    "company_name += company_name27\n",
    "company_number += company_number27\n",
    "company_industry += company_industry27\n",
    "company_market += company_market27\n",
    "time.sleep(10)"
   ]
  },
  {
   "attachments": {},
   "cell_type": "markdown",
   "metadata": {},
   "source": [
    "#### 銀行業"
   ]
  },
  {
   "cell_type": "code",
   "execution_count": null,
   "metadata": {},
   "outputs": [],
   "source": [
    "CHROME_DRIVER = \"C:/Users/ichir/Documents/seminar/chrome_driver/chromedriver.exe\"\n",
    "chrome_service = service.Service(executable_path = CHROME_DRIVER)\n",
    "browser = webdriver.Chrome(service=chrome_service)\n",
    "time.sleep(2)"
   ]
  },
  {
   "cell_type": "code",
   "execution_count": null,
   "metadata": {},
   "outputs": [],
   "source": [
    "page_sub_url = f\"https://minkabu.jp/stock/stocksitemap/28\"\n",
    "company_name28 = []\n",
    "company_number28 = []\n",
    "company_industry28 = []\n",
    "company_market28 = []\n",
    "for i in range(1, 8):\n",
    "    if i != 1:\n",
    "        page_url = page_sub_url + f\"?page={i}\"\n",
    "    else:\n",
    "        page_url = page_sub_url\n",
    "    browser.get(page_url)\n",
    "    time.sleep(1)\n",
    "    companies_list = browser.find_elements(\"xpath\", \"//table[@class = 'md_table']/tbody/tr/td[@class = 'vamd']\")\n",
    "    for j in range(len(companies_list)):\n",
    "        j += 2\n",
    "        com_path = f\"//table[@class = 'md_table']/tbody/tr[{j}]/td/div[2]/a\"\n",
    "        browser.find_element(\"xpath\", com_path).click()\n",
    "        time.sleep(1)\n",
    "        com_name = browser.find_element(\"xpath\", \"//div[@class = 'md_stockBoard_header md_box']/div[@class = 'ly_row']/div/div[@class = 'ly_col ly_colsize_7']/h1/a/p[@class = 'md_stockBoard_stockName']\")\n",
    "        com_number_and_market = browser.find_element(\"xpath\", \"//div[@class = 'stock_label']\")\n",
    "        com_ind = browser.find_element(\"xpath\", \"//a[@href = '/stock/stocksitemap/28']\")\n",
    "        time.sleep(2)\n",
    "        company_name28.append(com_name.text)\n",
    "        company_number28.append(com_number_and_market.text[:4])\n",
    "        company_industry28.append(com_ind.text)\n",
    "        company_market28.append(com_number_and_market.text[6:])\n",
    "        time.sleep(1)\n",
    "        browser.back()\n",
    "        time.sleep(1)"
   ]
  },
  {
   "cell_type": "code",
   "execution_count": null,
   "metadata": {},
   "outputs": [],
   "source": [
    "browser.close()"
   ]
  },
  {
   "cell_type": "code",
   "execution_count": null,
   "metadata": {},
   "outputs": [],
   "source": [
    "company_name += company_name28\n",
    "company_number += company_number28\n",
    "company_industry += company_industry28\n",
    "company_market += company_market28\n",
    "time.sleep(10)"
   ]
  },
  {
   "attachments": {},
   "cell_type": "markdown",
   "metadata": {},
   "source": [
    "#### 証券、商品先物取引業"
   ]
  },
  {
   "cell_type": "code",
   "execution_count": null,
   "metadata": {},
   "outputs": [],
   "source": [
    "CHROME_DRIVER = \"C:/Users/ichir/Documents/seminar/chrome_driver/chromedriver.exe\"\n",
    "chrome_service = service.Service(executable_path = CHROME_DRIVER)\n",
    "browser = webdriver.Chrome(service=chrome_service)\n",
    "time.sleep(2)"
   ]
  },
  {
   "cell_type": "code",
   "execution_count": null,
   "metadata": {},
   "outputs": [],
   "source": [
    "page_sub_url = f\"https://minkabu.jp/stock/stocksitemap/29\"\n",
    "company_name29 = []\n",
    "company_number29 = []\n",
    "company_industry29 = []\n",
    "company_market29 = []\n",
    "for i in range(1, 5):\n",
    "    if i != 1:\n",
    "        page_url = page_sub_url + f\"?page={i}\"\n",
    "    else:\n",
    "        page_url = page_sub_url\n",
    "    browser.get(page_url)\n",
    "    time.sleep(1)\n",
    "    companies_list = browser.find_elements(\"xpath\", \"//table[@class = 'md_table']/tbody/tr/td[@class = 'vamd']\")\n",
    "    for j in range(len(companies_list)):\n",
    "        j += 2\n",
    "        if (i == 1) & (j == 8):\n",
    "            time.sleep(2)\n",
    "        else:\n",
    "            com_path = f\"//table[@class = 'md_table']/tbody/tr[{j}]/td/div[2]/a\"\n",
    "            browser.find_element(\"xpath\", com_path).click()\n",
    "            time.sleep(1)\n",
    "            com_name = browser.find_element(\"xpath\", \"//div[@class = 'md_stockBoard_header md_box']/div[@class = 'ly_row']/div/div[@class = 'ly_col ly_colsize_7']/h1/a/p[@class = 'md_stockBoard_stockName']\")\n",
    "            com_number_and_market = browser.find_element(\"xpath\", \"//div[@class = 'stock_label']\")\n",
    "            com_ind = browser.find_element(\"xpath\", \"//a[@href = '/stock/stocksitemap/29']\")\n",
    "            time.sleep(2)\n",
    "            company_name29.append(com_name.text)\n",
    "            company_number29.append(com_number_and_market.text[:4])\n",
    "            company_industry29.append(com_ind.text)\n",
    "            company_market29.append(com_number_and_market.text[6:])\n",
    "            time.sleep(1)\n",
    "            browser.back()\n",
    "            time.sleep(1)"
   ]
  },
  {
   "cell_type": "code",
   "execution_count": null,
   "metadata": {},
   "outputs": [],
   "source": [
    "browser.close()"
   ]
  },
  {
   "cell_type": "code",
   "execution_count": null,
   "metadata": {},
   "outputs": [],
   "source": [
    "company_name += company_name29\n",
    "company_number += company_number29\n",
    "company_industry += company_industry29\n",
    "company_market += company_market29\n",
    "time.sleep(10)"
   ]
  },
  {
   "attachments": {},
   "cell_type": "markdown",
   "metadata": {},
   "source": [
    "#### 保険業"
   ]
  },
  {
   "cell_type": "code",
   "execution_count": null,
   "metadata": {},
   "outputs": [],
   "source": [
    "CHROME_DRIVER = \"C:/Users/ichir/Documents/seminar/chrome_driver/chromedriver.exe\"\n",
    "chrome_service = service.Service(executable_path = CHROME_DRIVER)\n",
    "browser = webdriver.Chrome(service=chrome_service)\n",
    "time.sleep(2)"
   ]
  },
  {
   "cell_type": "code",
   "execution_count": null,
   "metadata": {},
   "outputs": [],
   "source": [
    "page_sub_url = f\"https://minkabu.jp/stock/stocksitemap/30\"\n",
    "company_name30 = []\n",
    "company_number30 = []\n",
    "company_industry30 = []\n",
    "company_market30 = []\n",
    "for i in range(1, 3):\n",
    "    if i != 1:\n",
    "        page_url = page_sub_url + f\"?page={i}\"\n",
    "    else:\n",
    "        page_url = page_sub_url\n",
    "    browser.get(page_url)\n",
    "    time.sleep(1)\n",
    "    companies_list = browser.find_elements(\"xpath\", \"//table[@class = 'md_table']/tbody/tr/td[@class = 'vamd']\")\n",
    "    for j in range(len(companies_list)):\n",
    "        j += 2\n",
    "        if (i == 1) & (j == 5):\n",
    "            time.sleep(2)\n",
    "        else:\n",
    "            com_path = f\"//table[@class = 'md_table']/tbody/tr[{j}]/td/div[2]/a\"\n",
    "            browser.find_element(\"xpath\", com_path).click()\n",
    "            time.sleep(1)\n",
    "            com_name = browser.find_element(\"xpath\", \"//div[@class = 'md_stockBoard_header md_box']/div[@class = 'ly_row']/div/div[@class = 'ly_col ly_colsize_7']/h1/a/p[@class = 'md_stockBoard_stockName']\")\n",
    "            com_number_and_market = browser.find_element(\"xpath\", \"//div[@class = 'stock_label']\")\n",
    "            com_ind = browser.find_element(\"xpath\", \"//a[@href = '/stock/stocksitemap/30']\")\n",
    "            time.sleep(2)\n",
    "            company_name30.append(com_name.text)\n",
    "            company_number30.append(com_number_and_market.text[:4])\n",
    "            company_industry30.append(com_ind.text)\n",
    "            company_market30.append(com_number_and_market.text[6:])\n",
    "            time.sleep(1)\n",
    "            browser.back()\n",
    "            time.sleep(1)"
   ]
  },
  {
   "cell_type": "code",
   "execution_count": null,
   "metadata": {},
   "outputs": [],
   "source": [
    "browser.close()"
   ]
  },
  {
   "cell_type": "code",
   "execution_count": null,
   "metadata": {},
   "outputs": [],
   "source": [
    "company_name += company_name30\n",
    "company_number += company_number30\n",
    "company_industry += company_industry30\n",
    "company_market += company_market30\n",
    "time.sleep(10)"
   ]
  },
  {
   "attachments": {},
   "cell_type": "markdown",
   "metadata": {},
   "source": [
    "#### その他金融業"
   ]
  },
  {
   "cell_type": "code",
   "execution_count": null,
   "metadata": {},
   "outputs": [],
   "source": [
    "CHROME_DRIVER = \"C:/Users/ichir/Documents/seminar/chrome_driver/chromedriver.exe\"\n",
    "chrome_service = service.Service(executable_path = CHROME_DRIVER)\n",
    "browser = webdriver.Chrome(service=chrome_service)\n",
    "time.sleep(2)"
   ]
  },
  {
   "cell_type": "code",
   "execution_count": null,
   "metadata": {},
   "outputs": [],
   "source": [
    "page_sub_url = f\"https://minkabu.jp/stock/stocksitemap/31\"\n",
    "company_name31 = []\n",
    "company_number31 = []\n",
    "company_industry31 = []\n",
    "company_market31 = []\n",
    "for i in range(1, 5):\n",
    "    if i != 1:\n",
    "        page_url = page_sub_url + f\"?page={i}\"\n",
    "    else:\n",
    "        page_url = page_sub_url\n",
    "    browser.get(page_url)\n",
    "    time.sleep(1)\n",
    "    companies_list = browser.find_elements(\"xpath\", \"//table[@class = 'md_table']/tbody/tr/td[@class = 'vamd']\")\n",
    "    for j in range(len(companies_list)):\n",
    "        j += 2\n",
    "        com_path = f\"//table[@class = 'md_table']/tbody/tr[{j}]/td/div[2]/a\"\n",
    "        browser.find_element(\"xpath\", com_path).click()\n",
    "        time.sleep(1)\n",
    "        com_name = browser.find_element(\"xpath\", \"//div[@class = 'md_stockBoard_header md_box']/div[@class = 'ly_row']/div/div[@class = 'ly_col ly_colsize_7']/h1/a/p[@class = 'md_stockBoard_stockName']\")\n",
    "        com_number_and_market = browser.find_element(\"xpath\", \"//div[@class = 'stock_label']\")\n",
    "        com_ind = browser.find_element(\"xpath\", \"//a[@href = '/stock/stocksitemap/31']\")\n",
    "        time.sleep(2)\n",
    "        company_name31.append(com_name.text)\n",
    "        company_number31.append(com_number_and_market.text[:4])\n",
    "        company_industry31.append(com_ind.text)\n",
    "        company_market31.append(com_number_and_market.text[6:])\n",
    "        time.sleep(1)\n",
    "        browser.back()\n",
    "        time.sleep(1)"
   ]
  },
  {
   "cell_type": "code",
   "execution_count": null,
   "metadata": {},
   "outputs": [],
   "source": [
    "browser.close()"
   ]
  },
  {
   "cell_type": "code",
   "execution_count": null,
   "metadata": {},
   "outputs": [],
   "source": [
    "company_name += company_name31\n",
    "company_number += company_number31\n",
    "company_industry += company_industry31\n",
    "company_market += company_market31\n",
    "time.sleep(10)"
   ]
  },
  {
   "attachments": {},
   "cell_type": "markdown",
   "metadata": {},
   "source": [
    "#### 不動産業"
   ]
  },
  {
   "cell_type": "code",
   "execution_count": null,
   "metadata": {},
   "outputs": [],
   "source": [
    "CHROME_DRIVER = \"C:/Users/ichir/Documents/seminar/chrome_driver/chromedriver.exe\"\n",
    "chrome_service = service.Service(executable_path = CHROME_DRIVER)\n",
    "browser = webdriver.Chrome(service=chrome_service)\n",
    "time.sleep(2)"
   ]
  },
  {
   "cell_type": "code",
   "execution_count": null,
   "metadata": {},
   "outputs": [],
   "source": [
    "page_sub_url = f\"https://minkabu.jp/stock/stocksitemap/32\"\n",
    "company_name32 = []\n",
    "company_number32 = []\n",
    "company_industry32 = []\n",
    "company_market32 = []\n",
    "for i in range(1, 13):\n",
    "    if i != 1:\n",
    "        page_url = page_sub_url + f\"?page={i}\"\n",
    "    else:\n",
    "        page_url = page_sub_url\n",
    "    browser.get(page_url)\n",
    "    time.sleep(1)\n",
    "    companies_list = browser.find_elements(\"xpath\", \"//table[@class = 'md_table']/tbody/tr/td[@class = 'vamd']\")\n",
    "    for j in range(len(companies_list)):\n",
    "        j += 2\n",
    "        if (i == 4) & (j == 15):\n",
    "            time.sleep(2)\n",
    "        else:\n",
    "            com_path = f\"//table[@class = 'md_table']/tbody/tr[{j}]/td/div[2]/a\"\n",
    "            browser.find_element(\"xpath\", com_path).click()\n",
    "            time.sleep(1)\n",
    "            com_name = browser.find_element(\"xpath\", \"//div[@class = 'md_stockBoard_header md_box']/div[@class = 'ly_row']/div/div[@class = 'ly_col ly_colsize_7']/h1/a/p[@class = 'md_stockBoard_stockName']\")\n",
    "            com_number_and_market = browser.find_element(\"xpath\", \"//div[@class = 'stock_label']\")\n",
    "            com_ind = browser.find_element(\"xpath\", \"//a[@href = '/stock/stocksitemap/32']\")\n",
    "            time.sleep(2)\n",
    "            company_name32.append(com_name.text)\n",
    "            company_number32.append(com_number_and_market.text[:4])\n",
    "            company_industry32.append(com_ind.text)\n",
    "            company_market32.append(com_number_and_market.text[6:])\n",
    "            time.sleep(1)\n",
    "            browser.back()\n",
    "            time.sleep(1)"
   ]
  },
  {
   "cell_type": "code",
   "execution_count": null,
   "metadata": {},
   "outputs": [],
   "source": [
    "browser.close()"
   ]
  },
  {
   "cell_type": "code",
   "execution_count": null,
   "metadata": {},
   "outputs": [],
   "source": [
    "company_name += company_name32\n",
    "company_number += company_number32\n",
    "company_industry += company_industry32\n",
    "company_market += company_market32\n",
    "time.sleep(10)"
   ]
  },
  {
   "attachments": {},
   "cell_type": "markdown",
   "metadata": {},
   "source": [
    "#### サービス業"
   ]
  },
  {
   "cell_type": "code",
   "execution_count": 322,
   "metadata": {},
   "outputs": [],
   "source": [
    "CHROME_DRIVER = \"C:/Users/ichir/Documents/seminar/chrome_driver/chromedriver.exe\"\n",
    "chrome_service = service.Service(executable_path = CHROME_DRIVER)\n",
    "browser = webdriver.Chrome(service=chrome_service)\n",
    "time.sleep(2)"
   ]
  },
  {
   "cell_type": "code",
   "execution_count": 323,
   "metadata": {},
   "outputs": [],
   "source": [
    "page_url = f\"https://minkabu.jp/stock/stocksitemap/33?page=36\"\n",
    "company_name33 = []\n",
    "company_number33 = []\n",
    "company_industry33 = []\n",
    "company_market33 = []\n",
    "browser.get(page_url)\n",
    "time.sleep(1)\n",
    "companies_list = browser.find_elements(\"xpath\", \"//table[@class = 'md_table']/tbody/tr/td[@class = 'vamd']\")\n",
    "for j in range(len(companies_list)):\n",
    "    j += 2\n",
    "    com_path = f\"//table[@class = 'md_table']/tbody/tr[{j}]/td/div[2]/a\"\n",
    "    browser.find_element(\"xpath\", com_path).click()\n",
    "    time.sleep(1)\n",
    "    com_name = browser.find_element(\"xpath\", \"//div[@class = 'md_stockBoard_header md_box']/div[@class = 'ly_row']/div/div[@class = 'ly_col ly_colsize_7']/h1/a/p[@class = 'md_stockBoard_stockName']\")\n",
    "    com_number_and_market = browser.find_element(\"xpath\", \"//div[@class = 'stock_label']\")\n",
    "    com_ind = browser.find_element(\"xpath\", \"//a[@href = '/stock/stocksitemap/33']\")\n",
    "    time.sleep(2)\n",
    "    company_name33.append(com_name.text)\n",
    "    company_number33.append(com_number_and_market.text[:4])\n",
    "    company_industry33.append(com_ind.text)\n",
    "    company_market33.append(com_number_and_market.text[6:])\n",
    "    time.sleep(1)\n",
    "    browser.back()\n",
    "    time.sleep(1)"
   ]
  },
  {
   "cell_type": "code",
   "execution_count": 324,
   "metadata": {},
   "outputs": [],
   "source": [
    "browser.close()"
   ]
  },
  {
   "cell_type": "code",
   "execution_count": 325,
   "metadata": {},
   "outputs": [],
   "source": [
    "company_name += company_name33\n",
    "company_number += company_number33\n",
    "company_industry += company_industry33\n",
    "company_market += company_market33\n",
    "time.sleep(1)"
   ]
  },
  {
   "cell_type": "code",
   "execution_count": 326,
   "metadata": {},
   "outputs": [
    {
     "data": {
      "text/plain": [
       "700"
      ]
     },
     "execution_count": 326,
     "metadata": {},
     "output_type": "execute_result"
    }
   ],
   "source": [
    "len(company_name)"
   ]
  },
  {
   "cell_type": "code",
   "execution_count": 329,
   "metadata": {},
   "outputs": [],
   "source": [
    "dat3_sub4 = pd.DataFrame(list(zip(company_name, company_industry, company_market, company_number)), columns = ['company name', 'industry33', 'stock market', 'stock number'])"
   ]
  },
  {
   "cell_type": "code",
   "execution_count": null,
   "metadata": {},
   "outputs": [],
   "source": []
  }
 ],
 "metadata": {
  "kernelspec": {
   "display_name": "Python 3",
   "language": "python",
   "name": "python3"
  },
  "language_info": {
   "codemirror_mode": {
    "name": "ipython",
    "version": 3
   },
   "file_extension": ".py",
   "mimetype": "text/x-python",
   "name": "python",
   "nbconvert_exporter": "python",
   "pygments_lexer": "ipython3",
   "version": "3.11.2"
  },
  "orig_nbformat": 4,
  "vscode": {
   "interpreter": {
    "hash": "62fda1108ea2b9a87f0a23937d422cc2e076a14c9fccb1a0c2b883e74afe512a"
   }
  }
 },
 "nbformat": 4,
 "nbformat_minor": 2
}
